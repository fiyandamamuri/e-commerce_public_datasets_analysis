{
  "cells": [
    {
      "cell_type": "markdown",
      "metadata": {
        "id": "H9wADwK78DCz"
      },
      "source": [
        "# Proyek Analisis Data: E-Commerce Public Dataset\n",
        "- **Nama:** Fiyanda Ma'muri\n",
        "- **Email:** fiyandamamuri@gmail.com\n",
        "- **ID Dicoding:** fiyandamamuri"
      ]
    },
    {
      "cell_type": "markdown",
      "metadata": {
        "id": "eE0raob58DC0"
      },
      "source": [
        "## Menentukan Pertanyaan Bisnis\n",
        "- Pertanyaan 1 : Di kota mana mayoritas pelanggan berasal, dan bagaimana distribusi jumlah pelanggan di 5 kota teratas dibandingkan dengan kota lainnya? Apa implikasi dari data ini untuk strategi pemasaran perusahaan, seperti penempatan promosi lokal atau ekspansi operasional?\n",
        "\n",
        "- Pertanyaan 2 : Apa saja metode pembayaran yang paling banyak digunakan oleh pelanggan, dan seberapa besar kontribusi setiap metode terhadap total transaksi? Berdasarkan distribusi ini, bagaimana perusahaan dapat mengoptimalkan layanan pembayaran untuk meningkatkan pengalaman pelanggan?\n",
        "\n",
        "- Pertanyaan 3 : Bagaimana tren jumlah pesanan dari waktu ke waktu (per bulan), dan apakah ada pola musiman atau kenaikan/penurunan yang signifikan selama periode tertentu? Apa strategi yang bisa diterapkan berdasarkan tren ini, misalnya untuk promosi musiman atau pengelolaan inventaris?\n",
        "\n",
        "- Pertanyaan 4 : Kategori produk apa yang paling populer di antara pelanggan, dan bagaimana distribusi 5 kategori teratas dibandingkan dengan kategori lainnya? Bagaimana hasil ini dapat digunakan untuk pengelolaan produk atau strategi pemasaran perusahaan?"
      ]
    },
    {
      "cell_type": "markdown",
      "metadata": {
        "id": "H-z4QGlO8DC1"
      },
      "source": [
        "## Import Semua Packages/Library yang Digunakan"
      ]
    },
    {
      "cell_type": "code",
      "execution_count": 1,
      "metadata": {
        "id": "FVYwaObI8DC1"
      },
      "outputs": [],
      "source": [
        "import pandas as pd\n",
        "import numpy as np\n",
        "import matplotlib.pyplot as plt\n",
        "import seaborn as sns"
      ]
    },
    {
      "cell_type": "markdown",
      "metadata": {
        "id": "h_Sh51Xy8DC1"
      },
      "source": [
        "## Data Wrangling"
      ]
    },
    {
      "cell_type": "markdown",
      "metadata": {
        "id": "sXU2GBYu8DC1"
      },
      "source": [
        "### Gathering Data"
      ]
    },
    {
      "cell_type": "code",
      "execution_count": 2,
      "metadata": {
        "id": "zjCBk1BI8DC1"
      },
      "outputs": [],
      "source": [
        "# !git clone https://github.com/fiyandamamuri/e-commerce_public_datasets_analysis.git"
      ]
    },
    {
      "cell_type": "code",
      "execution_count": 3,
      "metadata": {
        "id": "WIXKwbqKkUi6"
      },
      "outputs": [],
      "source": [
        "df_item = pd.read_csv(\"datasets\\order_items_dataset.csv\")\n",
        "df_reviews = pd.read_csv(\"datasets\\order_reviews_dataset.csv\")\n",
        "df_orders = pd.read_csv(\"datasets\\orders_dataset.csv\")\n",
        "df_products = pd.read_csv(\"datasets\\products_dataset.csv\")\n",
        "df_geolocation = pd.read_csv(\"datasets\\geolocation_dataset.csv\")\n",
        "df_sellers = pd.read_csv(\"datasets\\sellers_dataset.csv\")\n",
        "df_order_pay = pd.read_csv(\"datasets\\order_payments_dataset.csv\")\n",
        "df_customers = pd.read_csv(\"datasets\\customers_dataset.csv\")\n",
        "df_category = pd.read_csv(\"datasets\\product_category_name_translation.csv\")"
      ]
    },
    {
      "cell_type": "code",
      "execution_count": 4,
      "metadata": {
        "colab": {
          "base_uri": "https://localhost:8080/",
          "height": 424
        },
        "id": "iy486DKHlr6Q",
        "outputId": "b50da11c-d456-4526-e9ef-32cabcea46d9"
      },
      "outputs": [
        {
          "data": {
            "text/html": [
              "<div>\n",
              "<style scoped>\n",
              "    .dataframe tbody tr th:only-of-type {\n",
              "        vertical-align: middle;\n",
              "    }\n",
              "\n",
              "    .dataframe tbody tr th {\n",
              "        vertical-align: top;\n",
              "    }\n",
              "\n",
              "    .dataframe thead th {\n",
              "        text-align: right;\n",
              "    }\n",
              "</style>\n",
              "<table border=\"1\" class=\"dataframe\">\n",
              "  <thead>\n",
              "    <tr style=\"text-align: right;\">\n",
              "      <th></th>\n",
              "      <th>order_id</th>\n",
              "      <th>order_item_id</th>\n",
              "      <th>product_id</th>\n",
              "      <th>seller_id</th>\n",
              "      <th>shipping_limit_date</th>\n",
              "      <th>price</th>\n",
              "      <th>freight_value</th>\n",
              "    </tr>\n",
              "  </thead>\n",
              "  <tbody>\n",
              "    <tr>\n",
              "      <th>0</th>\n",
              "      <td>00010242fe8c5a6d1ba2dd792cb16214</td>\n",
              "      <td>1</td>\n",
              "      <td>4244733e06e7ecb4970a6e2683c13e61</td>\n",
              "      <td>48436dade18ac8b2bce089ec2a041202</td>\n",
              "      <td>2017-09-19 09:45:35</td>\n",
              "      <td>58.90</td>\n",
              "      <td>13.29</td>\n",
              "    </tr>\n",
              "    <tr>\n",
              "      <th>1</th>\n",
              "      <td>00018f77f2f0320c557190d7a144bdd3</td>\n",
              "      <td>1</td>\n",
              "      <td>e5f2d52b802189ee658865ca93d83a8f</td>\n",
              "      <td>dd7ddc04e1b6c2c614352b383efe2d36</td>\n",
              "      <td>2017-05-03 11:05:13</td>\n",
              "      <td>239.90</td>\n",
              "      <td>19.93</td>\n",
              "    </tr>\n",
              "    <tr>\n",
              "      <th>2</th>\n",
              "      <td>000229ec398224ef6ca0657da4fc703e</td>\n",
              "      <td>1</td>\n",
              "      <td>c777355d18b72b67abbeef9df44fd0fd</td>\n",
              "      <td>5b51032eddd242adc84c38acab88f23d</td>\n",
              "      <td>2018-01-18 14:48:30</td>\n",
              "      <td>199.00</td>\n",
              "      <td>17.87</td>\n",
              "    </tr>\n",
              "    <tr>\n",
              "      <th>3</th>\n",
              "      <td>00024acbcdf0a6daa1e931b038114c75</td>\n",
              "      <td>1</td>\n",
              "      <td>7634da152a4610f1595efa32f14722fc</td>\n",
              "      <td>9d7a1d34a5052409006425275ba1c2b4</td>\n",
              "      <td>2018-08-15 10:10:18</td>\n",
              "      <td>12.99</td>\n",
              "      <td>12.79</td>\n",
              "    </tr>\n",
              "    <tr>\n",
              "      <th>4</th>\n",
              "      <td>00042b26cf59d7ce69dfabb4e55b4fd9</td>\n",
              "      <td>1</td>\n",
              "      <td>ac6c3623068f30de03045865e4e10089</td>\n",
              "      <td>df560393f3a51e74553ab94004ba5c87</td>\n",
              "      <td>2017-02-13 13:57:51</td>\n",
              "      <td>199.90</td>\n",
              "      <td>18.14</td>\n",
              "    </tr>\n",
              "    <tr>\n",
              "      <th>...</th>\n",
              "      <td>...</td>\n",
              "      <td>...</td>\n",
              "      <td>...</td>\n",
              "      <td>...</td>\n",
              "      <td>...</td>\n",
              "      <td>...</td>\n",
              "      <td>...</td>\n",
              "    </tr>\n",
              "    <tr>\n",
              "      <th>112645</th>\n",
              "      <td>fffc94f6ce00a00581880bf54a75a037</td>\n",
              "      <td>1</td>\n",
              "      <td>4aa6014eceb682077f9dc4bffebc05b0</td>\n",
              "      <td>b8bc237ba3788b23da09c0f1f3a3288c</td>\n",
              "      <td>2018-05-02 04:11:01</td>\n",
              "      <td>299.99</td>\n",
              "      <td>43.41</td>\n",
              "    </tr>\n",
              "    <tr>\n",
              "      <th>112646</th>\n",
              "      <td>fffcd46ef2263f404302a634eb57f7eb</td>\n",
              "      <td>1</td>\n",
              "      <td>32e07fd915822b0765e448c4dd74c828</td>\n",
              "      <td>f3c38ab652836d21de61fb8314b69182</td>\n",
              "      <td>2018-07-20 04:31:48</td>\n",
              "      <td>350.00</td>\n",
              "      <td>36.53</td>\n",
              "    </tr>\n",
              "    <tr>\n",
              "      <th>112647</th>\n",
              "      <td>fffce4705a9662cd70adb13d4a31832d</td>\n",
              "      <td>1</td>\n",
              "      <td>72a30483855e2eafc67aee5dc2560482</td>\n",
              "      <td>c3cfdc648177fdbbbb35635a37472c53</td>\n",
              "      <td>2017-10-30 17:14:25</td>\n",
              "      <td>99.90</td>\n",
              "      <td>16.95</td>\n",
              "    </tr>\n",
              "    <tr>\n",
              "      <th>112648</th>\n",
              "      <td>fffe18544ffabc95dfada21779c9644f</td>\n",
              "      <td>1</td>\n",
              "      <td>9c422a519119dcad7575db5af1ba540e</td>\n",
              "      <td>2b3e4a2a3ea8e01938cabda2a3e5cc79</td>\n",
              "      <td>2017-08-21 00:04:32</td>\n",
              "      <td>55.99</td>\n",
              "      <td>8.72</td>\n",
              "    </tr>\n",
              "    <tr>\n",
              "      <th>112649</th>\n",
              "      <td>fffe41c64501cc87c801fd61db3f6244</td>\n",
              "      <td>1</td>\n",
              "      <td>350688d9dc1e75ff97be326363655e01</td>\n",
              "      <td>f7ccf836d21b2fb1de37564105216cc1</td>\n",
              "      <td>2018-06-12 17:10:13</td>\n",
              "      <td>43.00</td>\n",
              "      <td>12.79</td>\n",
              "    </tr>\n",
              "  </tbody>\n",
              "</table>\n",
              "<p>112650 rows × 7 columns</p>\n",
              "</div>"
            ],
            "text/plain": [
              "                                order_id  order_item_id  \\\n",
              "0       00010242fe8c5a6d1ba2dd792cb16214              1   \n",
              "1       00018f77f2f0320c557190d7a144bdd3              1   \n",
              "2       000229ec398224ef6ca0657da4fc703e              1   \n",
              "3       00024acbcdf0a6daa1e931b038114c75              1   \n",
              "4       00042b26cf59d7ce69dfabb4e55b4fd9              1   \n",
              "...                                  ...            ...   \n",
              "112645  fffc94f6ce00a00581880bf54a75a037              1   \n",
              "112646  fffcd46ef2263f404302a634eb57f7eb              1   \n",
              "112647  fffce4705a9662cd70adb13d4a31832d              1   \n",
              "112648  fffe18544ffabc95dfada21779c9644f              1   \n",
              "112649  fffe41c64501cc87c801fd61db3f6244              1   \n",
              "\n",
              "                              product_id                         seller_id  \\\n",
              "0       4244733e06e7ecb4970a6e2683c13e61  48436dade18ac8b2bce089ec2a041202   \n",
              "1       e5f2d52b802189ee658865ca93d83a8f  dd7ddc04e1b6c2c614352b383efe2d36   \n",
              "2       c777355d18b72b67abbeef9df44fd0fd  5b51032eddd242adc84c38acab88f23d   \n",
              "3       7634da152a4610f1595efa32f14722fc  9d7a1d34a5052409006425275ba1c2b4   \n",
              "4       ac6c3623068f30de03045865e4e10089  df560393f3a51e74553ab94004ba5c87   \n",
              "...                                  ...                               ...   \n",
              "112645  4aa6014eceb682077f9dc4bffebc05b0  b8bc237ba3788b23da09c0f1f3a3288c   \n",
              "112646  32e07fd915822b0765e448c4dd74c828  f3c38ab652836d21de61fb8314b69182   \n",
              "112647  72a30483855e2eafc67aee5dc2560482  c3cfdc648177fdbbbb35635a37472c53   \n",
              "112648  9c422a519119dcad7575db5af1ba540e  2b3e4a2a3ea8e01938cabda2a3e5cc79   \n",
              "112649  350688d9dc1e75ff97be326363655e01  f7ccf836d21b2fb1de37564105216cc1   \n",
              "\n",
              "        shipping_limit_date   price  freight_value  \n",
              "0       2017-09-19 09:45:35   58.90          13.29  \n",
              "1       2017-05-03 11:05:13  239.90          19.93  \n",
              "2       2018-01-18 14:48:30  199.00          17.87  \n",
              "3       2018-08-15 10:10:18   12.99          12.79  \n",
              "4       2017-02-13 13:57:51  199.90          18.14  \n",
              "...                     ...     ...            ...  \n",
              "112645  2018-05-02 04:11:01  299.99          43.41  \n",
              "112646  2018-07-20 04:31:48  350.00          36.53  \n",
              "112647  2017-10-30 17:14:25   99.90          16.95  \n",
              "112648  2017-08-21 00:04:32   55.99           8.72  \n",
              "112649  2018-06-12 17:10:13   43.00          12.79  \n",
              "\n",
              "[112650 rows x 7 columns]"
            ]
          },
          "execution_count": 4,
          "metadata": {},
          "output_type": "execute_result"
        }
      ],
      "source": [
        "df_item"
      ]
    },
    {
      "cell_type": "code",
      "execution_count": 5,
      "metadata": {
        "colab": {
          "base_uri": "https://localhost:8080/",
          "height": 493
        },
        "id": "unns4D6emGlW",
        "outputId": "9cecedad-9671-4b3a-b394-7537c3906372"
      },
      "outputs": [
        {
          "data": {
            "text/html": [
              "<div>\n",
              "<style scoped>\n",
              "    .dataframe tbody tr th:only-of-type {\n",
              "        vertical-align: middle;\n",
              "    }\n",
              "\n",
              "    .dataframe tbody tr th {\n",
              "        vertical-align: top;\n",
              "    }\n",
              "\n",
              "    .dataframe thead th {\n",
              "        text-align: right;\n",
              "    }\n",
              "</style>\n",
              "<table border=\"1\" class=\"dataframe\">\n",
              "  <thead>\n",
              "    <tr style=\"text-align: right;\">\n",
              "      <th></th>\n",
              "      <th>review_id</th>\n",
              "      <th>order_id</th>\n",
              "      <th>review_score</th>\n",
              "      <th>review_comment_title</th>\n",
              "      <th>review_comment_message</th>\n",
              "      <th>review_creation_date</th>\n",
              "      <th>review_answer_timestamp</th>\n",
              "    </tr>\n",
              "  </thead>\n",
              "  <tbody>\n",
              "    <tr>\n",
              "      <th>0</th>\n",
              "      <td>7bc2406110b926393aa56f80a40eba40</td>\n",
              "      <td>73fc7af87114b39712e6da79b0a377eb</td>\n",
              "      <td>4</td>\n",
              "      <td>NaN</td>\n",
              "      <td>NaN</td>\n",
              "      <td>2018-01-18 00:00:00</td>\n",
              "      <td>2018-01-18 21:46:59</td>\n",
              "    </tr>\n",
              "    <tr>\n",
              "      <th>1</th>\n",
              "      <td>80e641a11e56f04c1ad469d5645fdfde</td>\n",
              "      <td>a548910a1c6147796b98fdf73dbeba33</td>\n",
              "      <td>5</td>\n",
              "      <td>NaN</td>\n",
              "      <td>NaN</td>\n",
              "      <td>2018-03-10 00:00:00</td>\n",
              "      <td>2018-03-11 03:05:13</td>\n",
              "    </tr>\n",
              "    <tr>\n",
              "      <th>2</th>\n",
              "      <td>228ce5500dc1d8e020d8d1322874b6f0</td>\n",
              "      <td>f9e4b658b201a9f2ecdecbb34bed034b</td>\n",
              "      <td>5</td>\n",
              "      <td>NaN</td>\n",
              "      <td>NaN</td>\n",
              "      <td>2018-02-17 00:00:00</td>\n",
              "      <td>2018-02-18 14:36:24</td>\n",
              "    </tr>\n",
              "    <tr>\n",
              "      <th>3</th>\n",
              "      <td>e64fb393e7b32834bb789ff8bb30750e</td>\n",
              "      <td>658677c97b385a9be170737859d3511b</td>\n",
              "      <td>5</td>\n",
              "      <td>NaN</td>\n",
              "      <td>Recebi bem antes do prazo estipulado.</td>\n",
              "      <td>2017-04-21 00:00:00</td>\n",
              "      <td>2017-04-21 22:02:06</td>\n",
              "    </tr>\n",
              "    <tr>\n",
              "      <th>4</th>\n",
              "      <td>f7c4243c7fe1938f181bec41a392bdeb</td>\n",
              "      <td>8e6bfb81e283fa7e4f11123a3fb894f1</td>\n",
              "      <td>5</td>\n",
              "      <td>NaN</td>\n",
              "      <td>Parabéns lojas lannister adorei comprar pela I...</td>\n",
              "      <td>2018-03-01 00:00:00</td>\n",
              "      <td>2018-03-02 10:26:53</td>\n",
              "    </tr>\n",
              "    <tr>\n",
              "      <th>...</th>\n",
              "      <td>...</td>\n",
              "      <td>...</td>\n",
              "      <td>...</td>\n",
              "      <td>...</td>\n",
              "      <td>...</td>\n",
              "      <td>...</td>\n",
              "      <td>...</td>\n",
              "    </tr>\n",
              "    <tr>\n",
              "      <th>99219</th>\n",
              "      <td>574ed12dd733e5fa530cfd4bbf39d7c9</td>\n",
              "      <td>2a8c23fee101d4d5662fa670396eb8da</td>\n",
              "      <td>5</td>\n",
              "      <td>NaN</td>\n",
              "      <td>NaN</td>\n",
              "      <td>2018-07-07 00:00:00</td>\n",
              "      <td>2018-07-14 17:18:30</td>\n",
              "    </tr>\n",
              "    <tr>\n",
              "      <th>99220</th>\n",
              "      <td>f3897127253a9592a73be9bdfdf4ed7a</td>\n",
              "      <td>22ec9f0669f784db00fa86d035cf8602</td>\n",
              "      <td>5</td>\n",
              "      <td>NaN</td>\n",
              "      <td>NaN</td>\n",
              "      <td>2017-12-09 00:00:00</td>\n",
              "      <td>2017-12-11 20:06:42</td>\n",
              "    </tr>\n",
              "    <tr>\n",
              "      <th>99221</th>\n",
              "      <td>b3de70c89b1510c4cd3d0649fd302472</td>\n",
              "      <td>55d4004744368f5571d1f590031933e4</td>\n",
              "      <td>5</td>\n",
              "      <td>NaN</td>\n",
              "      <td>Excelente mochila, entrega super rápida. Super...</td>\n",
              "      <td>2018-03-22 00:00:00</td>\n",
              "      <td>2018-03-23 09:10:43</td>\n",
              "    </tr>\n",
              "    <tr>\n",
              "      <th>99222</th>\n",
              "      <td>1adeb9d84d72fe4e337617733eb85149</td>\n",
              "      <td>7725825d039fc1f0ceb7635e3f7d9206</td>\n",
              "      <td>4</td>\n",
              "      <td>NaN</td>\n",
              "      <td>NaN</td>\n",
              "      <td>2018-07-01 00:00:00</td>\n",
              "      <td>2018-07-02 12:59:13</td>\n",
              "    </tr>\n",
              "    <tr>\n",
              "      <th>99223</th>\n",
              "      <td>efe49f1d6f951dd88b51e6ccd4cc548f</td>\n",
              "      <td>90531360ecb1eec2a1fbb265a0db0508</td>\n",
              "      <td>1</td>\n",
              "      <td>NaN</td>\n",
              "      <td>meu produto chegou e ja tenho que devolver, po...</td>\n",
              "      <td>2017-07-03 00:00:00</td>\n",
              "      <td>2017-07-03 21:01:49</td>\n",
              "    </tr>\n",
              "  </tbody>\n",
              "</table>\n",
              "<p>99224 rows × 7 columns</p>\n",
              "</div>"
            ],
            "text/plain": [
              "                              review_id                          order_id  \\\n",
              "0      7bc2406110b926393aa56f80a40eba40  73fc7af87114b39712e6da79b0a377eb   \n",
              "1      80e641a11e56f04c1ad469d5645fdfde  a548910a1c6147796b98fdf73dbeba33   \n",
              "2      228ce5500dc1d8e020d8d1322874b6f0  f9e4b658b201a9f2ecdecbb34bed034b   \n",
              "3      e64fb393e7b32834bb789ff8bb30750e  658677c97b385a9be170737859d3511b   \n",
              "4      f7c4243c7fe1938f181bec41a392bdeb  8e6bfb81e283fa7e4f11123a3fb894f1   \n",
              "...                                 ...                               ...   \n",
              "99219  574ed12dd733e5fa530cfd4bbf39d7c9  2a8c23fee101d4d5662fa670396eb8da   \n",
              "99220  f3897127253a9592a73be9bdfdf4ed7a  22ec9f0669f784db00fa86d035cf8602   \n",
              "99221  b3de70c89b1510c4cd3d0649fd302472  55d4004744368f5571d1f590031933e4   \n",
              "99222  1adeb9d84d72fe4e337617733eb85149  7725825d039fc1f0ceb7635e3f7d9206   \n",
              "99223  efe49f1d6f951dd88b51e6ccd4cc548f  90531360ecb1eec2a1fbb265a0db0508   \n",
              "\n",
              "       review_score review_comment_title  \\\n",
              "0                 4                  NaN   \n",
              "1                 5                  NaN   \n",
              "2                 5                  NaN   \n",
              "3                 5                  NaN   \n",
              "4                 5                  NaN   \n",
              "...             ...                  ...   \n",
              "99219             5                  NaN   \n",
              "99220             5                  NaN   \n",
              "99221             5                  NaN   \n",
              "99222             4                  NaN   \n",
              "99223             1                  NaN   \n",
              "\n",
              "                                  review_comment_message review_creation_date  \\\n",
              "0                                                    NaN  2018-01-18 00:00:00   \n",
              "1                                                    NaN  2018-03-10 00:00:00   \n",
              "2                                                    NaN  2018-02-17 00:00:00   \n",
              "3                  Recebi bem antes do prazo estipulado.  2017-04-21 00:00:00   \n",
              "4      Parabéns lojas lannister adorei comprar pela I...  2018-03-01 00:00:00   \n",
              "...                                                  ...                  ...   \n",
              "99219                                                NaN  2018-07-07 00:00:00   \n",
              "99220                                                NaN  2017-12-09 00:00:00   \n",
              "99221  Excelente mochila, entrega super rápida. Super...  2018-03-22 00:00:00   \n",
              "99222                                                NaN  2018-07-01 00:00:00   \n",
              "99223  meu produto chegou e ja tenho que devolver, po...  2017-07-03 00:00:00   \n",
              "\n",
              "      review_answer_timestamp  \n",
              "0         2018-01-18 21:46:59  \n",
              "1         2018-03-11 03:05:13  \n",
              "2         2018-02-18 14:36:24  \n",
              "3         2017-04-21 22:02:06  \n",
              "4         2018-03-02 10:26:53  \n",
              "...                       ...  \n",
              "99219     2018-07-14 17:18:30  \n",
              "99220     2017-12-11 20:06:42  \n",
              "99221     2018-03-23 09:10:43  \n",
              "99222     2018-07-02 12:59:13  \n",
              "99223     2017-07-03 21:01:49  \n",
              "\n",
              "[99224 rows x 7 columns]"
            ]
          },
          "execution_count": 5,
          "metadata": {},
          "output_type": "execute_result"
        }
      ],
      "source": [
        "df_reviews"
      ]
    },
    {
      "cell_type": "code",
      "execution_count": 6,
      "metadata": {
        "colab": {
          "base_uri": "https://localhost:8080/",
          "height": 444
        },
        "id": "ObSZbKSXmZNO",
        "outputId": "10e38636-f8ae-4d96-e7f3-90408b2ce4bc"
      },
      "outputs": [
        {
          "data": {
            "text/html": [
              "<div>\n",
              "<style scoped>\n",
              "    .dataframe tbody tr th:only-of-type {\n",
              "        vertical-align: middle;\n",
              "    }\n",
              "\n",
              "    .dataframe tbody tr th {\n",
              "        vertical-align: top;\n",
              "    }\n",
              "\n",
              "    .dataframe thead th {\n",
              "        text-align: right;\n",
              "    }\n",
              "</style>\n",
              "<table border=\"1\" class=\"dataframe\">\n",
              "  <thead>\n",
              "    <tr style=\"text-align: right;\">\n",
              "      <th></th>\n",
              "      <th>order_id</th>\n",
              "      <th>customer_id</th>\n",
              "      <th>order_status</th>\n",
              "      <th>order_purchase_timestamp</th>\n",
              "      <th>order_approved_at</th>\n",
              "      <th>order_delivered_carrier_date</th>\n",
              "      <th>order_delivered_customer_date</th>\n",
              "      <th>order_estimated_delivery_date</th>\n",
              "    </tr>\n",
              "  </thead>\n",
              "  <tbody>\n",
              "    <tr>\n",
              "      <th>0</th>\n",
              "      <td>e481f51cbdc54678b7cc49136f2d6af7</td>\n",
              "      <td>9ef432eb6251297304e76186b10a928d</td>\n",
              "      <td>delivered</td>\n",
              "      <td>2017-10-02 10:56:33</td>\n",
              "      <td>2017-10-02 11:07:15</td>\n",
              "      <td>2017-10-04 19:55:00</td>\n",
              "      <td>2017-10-10 21:25:13</td>\n",
              "      <td>2017-10-18 00:00:00</td>\n",
              "    </tr>\n",
              "    <tr>\n",
              "      <th>1</th>\n",
              "      <td>53cdb2fc8bc7dce0b6741e2150273451</td>\n",
              "      <td>b0830fb4747a6c6d20dea0b8c802d7ef</td>\n",
              "      <td>delivered</td>\n",
              "      <td>2018-07-24 20:41:37</td>\n",
              "      <td>2018-07-26 03:24:27</td>\n",
              "      <td>2018-07-26 14:31:00</td>\n",
              "      <td>2018-08-07 15:27:45</td>\n",
              "      <td>2018-08-13 00:00:00</td>\n",
              "    </tr>\n",
              "    <tr>\n",
              "      <th>2</th>\n",
              "      <td>47770eb9100c2d0c44946d9cf07ec65d</td>\n",
              "      <td>41ce2a54c0b03bf3443c3d931a367089</td>\n",
              "      <td>delivered</td>\n",
              "      <td>2018-08-08 08:38:49</td>\n",
              "      <td>2018-08-08 08:55:23</td>\n",
              "      <td>2018-08-08 13:50:00</td>\n",
              "      <td>2018-08-17 18:06:29</td>\n",
              "      <td>2018-09-04 00:00:00</td>\n",
              "    </tr>\n",
              "    <tr>\n",
              "      <th>3</th>\n",
              "      <td>949d5b44dbf5de918fe9c16f97b45f8a</td>\n",
              "      <td>f88197465ea7920adcdbec7375364d82</td>\n",
              "      <td>delivered</td>\n",
              "      <td>2017-11-18 19:28:06</td>\n",
              "      <td>2017-11-18 19:45:59</td>\n",
              "      <td>2017-11-22 13:39:59</td>\n",
              "      <td>2017-12-02 00:28:42</td>\n",
              "      <td>2017-12-15 00:00:00</td>\n",
              "    </tr>\n",
              "    <tr>\n",
              "      <th>4</th>\n",
              "      <td>ad21c59c0840e6cb83a9ceb5573f8159</td>\n",
              "      <td>8ab97904e6daea8866dbdbc4fb7aad2c</td>\n",
              "      <td>delivered</td>\n",
              "      <td>2018-02-13 21:18:39</td>\n",
              "      <td>2018-02-13 22:20:29</td>\n",
              "      <td>2018-02-14 19:46:34</td>\n",
              "      <td>2018-02-16 18:17:02</td>\n",
              "      <td>2018-02-26 00:00:00</td>\n",
              "    </tr>\n",
              "    <tr>\n",
              "      <th>...</th>\n",
              "      <td>...</td>\n",
              "      <td>...</td>\n",
              "      <td>...</td>\n",
              "      <td>...</td>\n",
              "      <td>...</td>\n",
              "      <td>...</td>\n",
              "      <td>...</td>\n",
              "      <td>...</td>\n",
              "    </tr>\n",
              "    <tr>\n",
              "      <th>99436</th>\n",
              "      <td>9c5dedf39a927c1b2549525ed64a053c</td>\n",
              "      <td>39bd1228ee8140590ac3aca26f2dfe00</td>\n",
              "      <td>delivered</td>\n",
              "      <td>2017-03-09 09:54:05</td>\n",
              "      <td>2017-03-09 09:54:05</td>\n",
              "      <td>2017-03-10 11:18:03</td>\n",
              "      <td>2017-03-17 15:08:01</td>\n",
              "      <td>2017-03-28 00:00:00</td>\n",
              "    </tr>\n",
              "    <tr>\n",
              "      <th>99437</th>\n",
              "      <td>63943bddc261676b46f01ca7ac2f7bd8</td>\n",
              "      <td>1fca14ff2861355f6e5f14306ff977a7</td>\n",
              "      <td>delivered</td>\n",
              "      <td>2018-02-06 12:58:58</td>\n",
              "      <td>2018-02-06 13:10:37</td>\n",
              "      <td>2018-02-07 23:22:42</td>\n",
              "      <td>2018-02-28 17:37:56</td>\n",
              "      <td>2018-03-02 00:00:00</td>\n",
              "    </tr>\n",
              "    <tr>\n",
              "      <th>99438</th>\n",
              "      <td>83c1379a015df1e13d02aae0204711ab</td>\n",
              "      <td>1aa71eb042121263aafbe80c1b562c9c</td>\n",
              "      <td>delivered</td>\n",
              "      <td>2017-08-27 14:46:43</td>\n",
              "      <td>2017-08-27 15:04:16</td>\n",
              "      <td>2017-08-28 20:52:26</td>\n",
              "      <td>2017-09-21 11:24:17</td>\n",
              "      <td>2017-09-27 00:00:00</td>\n",
              "    </tr>\n",
              "    <tr>\n",
              "      <th>99439</th>\n",
              "      <td>11c177c8e97725db2631073c19f07b62</td>\n",
              "      <td>b331b74b18dc79bcdf6532d51e1637c1</td>\n",
              "      <td>delivered</td>\n",
              "      <td>2018-01-08 21:28:27</td>\n",
              "      <td>2018-01-08 21:36:21</td>\n",
              "      <td>2018-01-12 15:35:03</td>\n",
              "      <td>2018-01-25 23:32:54</td>\n",
              "      <td>2018-02-15 00:00:00</td>\n",
              "    </tr>\n",
              "    <tr>\n",
              "      <th>99440</th>\n",
              "      <td>66dea50a8b16d9b4dee7af250b4be1a5</td>\n",
              "      <td>edb027a75a1449115f6b43211ae02a24</td>\n",
              "      <td>delivered</td>\n",
              "      <td>2018-03-08 20:57:30</td>\n",
              "      <td>2018-03-09 11:20:28</td>\n",
              "      <td>2018-03-09 22:11:59</td>\n",
              "      <td>2018-03-16 13:08:30</td>\n",
              "      <td>2018-04-03 00:00:00</td>\n",
              "    </tr>\n",
              "  </tbody>\n",
              "</table>\n",
              "<p>99441 rows × 8 columns</p>\n",
              "</div>"
            ],
            "text/plain": [
              "                               order_id                       customer_id  \\\n",
              "0      e481f51cbdc54678b7cc49136f2d6af7  9ef432eb6251297304e76186b10a928d   \n",
              "1      53cdb2fc8bc7dce0b6741e2150273451  b0830fb4747a6c6d20dea0b8c802d7ef   \n",
              "2      47770eb9100c2d0c44946d9cf07ec65d  41ce2a54c0b03bf3443c3d931a367089   \n",
              "3      949d5b44dbf5de918fe9c16f97b45f8a  f88197465ea7920adcdbec7375364d82   \n",
              "4      ad21c59c0840e6cb83a9ceb5573f8159  8ab97904e6daea8866dbdbc4fb7aad2c   \n",
              "...                                 ...                               ...   \n",
              "99436  9c5dedf39a927c1b2549525ed64a053c  39bd1228ee8140590ac3aca26f2dfe00   \n",
              "99437  63943bddc261676b46f01ca7ac2f7bd8  1fca14ff2861355f6e5f14306ff977a7   \n",
              "99438  83c1379a015df1e13d02aae0204711ab  1aa71eb042121263aafbe80c1b562c9c   \n",
              "99439  11c177c8e97725db2631073c19f07b62  b331b74b18dc79bcdf6532d51e1637c1   \n",
              "99440  66dea50a8b16d9b4dee7af250b4be1a5  edb027a75a1449115f6b43211ae02a24   \n",
              "\n",
              "      order_status order_purchase_timestamp    order_approved_at  \\\n",
              "0        delivered      2017-10-02 10:56:33  2017-10-02 11:07:15   \n",
              "1        delivered      2018-07-24 20:41:37  2018-07-26 03:24:27   \n",
              "2        delivered      2018-08-08 08:38:49  2018-08-08 08:55:23   \n",
              "3        delivered      2017-11-18 19:28:06  2017-11-18 19:45:59   \n",
              "4        delivered      2018-02-13 21:18:39  2018-02-13 22:20:29   \n",
              "...            ...                      ...                  ...   \n",
              "99436    delivered      2017-03-09 09:54:05  2017-03-09 09:54:05   \n",
              "99437    delivered      2018-02-06 12:58:58  2018-02-06 13:10:37   \n",
              "99438    delivered      2017-08-27 14:46:43  2017-08-27 15:04:16   \n",
              "99439    delivered      2018-01-08 21:28:27  2018-01-08 21:36:21   \n",
              "99440    delivered      2018-03-08 20:57:30  2018-03-09 11:20:28   \n",
              "\n",
              "      order_delivered_carrier_date order_delivered_customer_date  \\\n",
              "0              2017-10-04 19:55:00           2017-10-10 21:25:13   \n",
              "1              2018-07-26 14:31:00           2018-08-07 15:27:45   \n",
              "2              2018-08-08 13:50:00           2018-08-17 18:06:29   \n",
              "3              2017-11-22 13:39:59           2017-12-02 00:28:42   \n",
              "4              2018-02-14 19:46:34           2018-02-16 18:17:02   \n",
              "...                            ...                           ...   \n",
              "99436          2017-03-10 11:18:03           2017-03-17 15:08:01   \n",
              "99437          2018-02-07 23:22:42           2018-02-28 17:37:56   \n",
              "99438          2017-08-28 20:52:26           2017-09-21 11:24:17   \n",
              "99439          2018-01-12 15:35:03           2018-01-25 23:32:54   \n",
              "99440          2018-03-09 22:11:59           2018-03-16 13:08:30   \n",
              "\n",
              "      order_estimated_delivery_date  \n",
              "0               2017-10-18 00:00:00  \n",
              "1               2018-08-13 00:00:00  \n",
              "2               2018-09-04 00:00:00  \n",
              "3               2017-12-15 00:00:00  \n",
              "4               2018-02-26 00:00:00  \n",
              "...                             ...  \n",
              "99436           2017-03-28 00:00:00  \n",
              "99437           2018-03-02 00:00:00  \n",
              "99438           2017-09-27 00:00:00  \n",
              "99439           2018-02-15 00:00:00  \n",
              "99440           2018-04-03 00:00:00  \n",
              "\n",
              "[99441 rows x 8 columns]"
            ]
          },
          "execution_count": 6,
          "metadata": {},
          "output_type": "execute_result"
        }
      ],
      "source": [
        "df_orders"
      ]
    },
    {
      "cell_type": "code",
      "execution_count": 7,
      "metadata": {
        "colab": {
          "base_uri": "https://localhost:8080/",
          "height": 444
        },
        "id": "krXQjsd4mtl9",
        "outputId": "22c525a8-345d-4c4b-ae91-70e6f9a872d5"
      },
      "outputs": [
        {
          "data": {
            "text/html": [
              "<div>\n",
              "<style scoped>\n",
              "    .dataframe tbody tr th:only-of-type {\n",
              "        vertical-align: middle;\n",
              "    }\n",
              "\n",
              "    .dataframe tbody tr th {\n",
              "        vertical-align: top;\n",
              "    }\n",
              "\n",
              "    .dataframe thead th {\n",
              "        text-align: right;\n",
              "    }\n",
              "</style>\n",
              "<table border=\"1\" class=\"dataframe\">\n",
              "  <thead>\n",
              "    <tr style=\"text-align: right;\">\n",
              "      <th></th>\n",
              "      <th>product_id</th>\n",
              "      <th>product_category_name</th>\n",
              "      <th>product_name_lenght</th>\n",
              "      <th>product_description_lenght</th>\n",
              "      <th>product_photos_qty</th>\n",
              "      <th>product_weight_g</th>\n",
              "      <th>product_length_cm</th>\n",
              "      <th>product_height_cm</th>\n",
              "      <th>product_width_cm</th>\n",
              "    </tr>\n",
              "  </thead>\n",
              "  <tbody>\n",
              "    <tr>\n",
              "      <th>0</th>\n",
              "      <td>1e9e8ef04dbcff4541ed26657ea517e5</td>\n",
              "      <td>perfumaria</td>\n",
              "      <td>40.0</td>\n",
              "      <td>287.0</td>\n",
              "      <td>1.0</td>\n",
              "      <td>225.0</td>\n",
              "      <td>16.0</td>\n",
              "      <td>10.0</td>\n",
              "      <td>14.0</td>\n",
              "    </tr>\n",
              "    <tr>\n",
              "      <th>1</th>\n",
              "      <td>3aa071139cb16b67ca9e5dea641aaa2f</td>\n",
              "      <td>artes</td>\n",
              "      <td>44.0</td>\n",
              "      <td>276.0</td>\n",
              "      <td>1.0</td>\n",
              "      <td>1000.0</td>\n",
              "      <td>30.0</td>\n",
              "      <td>18.0</td>\n",
              "      <td>20.0</td>\n",
              "    </tr>\n",
              "    <tr>\n",
              "      <th>2</th>\n",
              "      <td>96bd76ec8810374ed1b65e291975717f</td>\n",
              "      <td>esporte_lazer</td>\n",
              "      <td>46.0</td>\n",
              "      <td>250.0</td>\n",
              "      <td>1.0</td>\n",
              "      <td>154.0</td>\n",
              "      <td>18.0</td>\n",
              "      <td>9.0</td>\n",
              "      <td>15.0</td>\n",
              "    </tr>\n",
              "    <tr>\n",
              "      <th>3</th>\n",
              "      <td>cef67bcfe19066a932b7673e239eb23d</td>\n",
              "      <td>bebes</td>\n",
              "      <td>27.0</td>\n",
              "      <td>261.0</td>\n",
              "      <td>1.0</td>\n",
              "      <td>371.0</td>\n",
              "      <td>26.0</td>\n",
              "      <td>4.0</td>\n",
              "      <td>26.0</td>\n",
              "    </tr>\n",
              "    <tr>\n",
              "      <th>4</th>\n",
              "      <td>9dc1a7de274444849c219cff195d0b71</td>\n",
              "      <td>utilidades_domesticas</td>\n",
              "      <td>37.0</td>\n",
              "      <td>402.0</td>\n",
              "      <td>4.0</td>\n",
              "      <td>625.0</td>\n",
              "      <td>20.0</td>\n",
              "      <td>17.0</td>\n",
              "      <td>13.0</td>\n",
              "    </tr>\n",
              "    <tr>\n",
              "      <th>...</th>\n",
              "      <td>...</td>\n",
              "      <td>...</td>\n",
              "      <td>...</td>\n",
              "      <td>...</td>\n",
              "      <td>...</td>\n",
              "      <td>...</td>\n",
              "      <td>...</td>\n",
              "      <td>...</td>\n",
              "      <td>...</td>\n",
              "    </tr>\n",
              "    <tr>\n",
              "      <th>32946</th>\n",
              "      <td>a0b7d5a992ccda646f2d34e418fff5a0</td>\n",
              "      <td>moveis_decoracao</td>\n",
              "      <td>45.0</td>\n",
              "      <td>67.0</td>\n",
              "      <td>2.0</td>\n",
              "      <td>12300.0</td>\n",
              "      <td>40.0</td>\n",
              "      <td>40.0</td>\n",
              "      <td>40.0</td>\n",
              "    </tr>\n",
              "    <tr>\n",
              "      <th>32947</th>\n",
              "      <td>bf4538d88321d0fd4412a93c974510e6</td>\n",
              "      <td>construcao_ferramentas_iluminacao</td>\n",
              "      <td>41.0</td>\n",
              "      <td>971.0</td>\n",
              "      <td>1.0</td>\n",
              "      <td>1700.0</td>\n",
              "      <td>16.0</td>\n",
              "      <td>19.0</td>\n",
              "      <td>16.0</td>\n",
              "    </tr>\n",
              "    <tr>\n",
              "      <th>32948</th>\n",
              "      <td>9a7c6041fa9592d9d9ef6cfe62a71f8c</td>\n",
              "      <td>cama_mesa_banho</td>\n",
              "      <td>50.0</td>\n",
              "      <td>799.0</td>\n",
              "      <td>1.0</td>\n",
              "      <td>1400.0</td>\n",
              "      <td>27.0</td>\n",
              "      <td>7.0</td>\n",
              "      <td>27.0</td>\n",
              "    </tr>\n",
              "    <tr>\n",
              "      <th>32949</th>\n",
              "      <td>83808703fc0706a22e264b9d75f04a2e</td>\n",
              "      <td>informatica_acessorios</td>\n",
              "      <td>60.0</td>\n",
              "      <td>156.0</td>\n",
              "      <td>2.0</td>\n",
              "      <td>700.0</td>\n",
              "      <td>31.0</td>\n",
              "      <td>13.0</td>\n",
              "      <td>20.0</td>\n",
              "    </tr>\n",
              "    <tr>\n",
              "      <th>32950</th>\n",
              "      <td>106392145fca363410d287a815be6de4</td>\n",
              "      <td>cama_mesa_banho</td>\n",
              "      <td>58.0</td>\n",
              "      <td>309.0</td>\n",
              "      <td>1.0</td>\n",
              "      <td>2083.0</td>\n",
              "      <td>12.0</td>\n",
              "      <td>2.0</td>\n",
              "      <td>7.0</td>\n",
              "    </tr>\n",
              "  </tbody>\n",
              "</table>\n",
              "<p>32951 rows × 9 columns</p>\n",
              "</div>"
            ],
            "text/plain": [
              "                             product_id              product_category_name  \\\n",
              "0      1e9e8ef04dbcff4541ed26657ea517e5                         perfumaria   \n",
              "1      3aa071139cb16b67ca9e5dea641aaa2f                              artes   \n",
              "2      96bd76ec8810374ed1b65e291975717f                      esporte_lazer   \n",
              "3      cef67bcfe19066a932b7673e239eb23d                              bebes   \n",
              "4      9dc1a7de274444849c219cff195d0b71              utilidades_domesticas   \n",
              "...                                 ...                                ...   \n",
              "32946  a0b7d5a992ccda646f2d34e418fff5a0                   moveis_decoracao   \n",
              "32947  bf4538d88321d0fd4412a93c974510e6  construcao_ferramentas_iluminacao   \n",
              "32948  9a7c6041fa9592d9d9ef6cfe62a71f8c                    cama_mesa_banho   \n",
              "32949  83808703fc0706a22e264b9d75f04a2e             informatica_acessorios   \n",
              "32950  106392145fca363410d287a815be6de4                    cama_mesa_banho   \n",
              "\n",
              "       product_name_lenght  product_description_lenght  product_photos_qty  \\\n",
              "0                     40.0                       287.0                 1.0   \n",
              "1                     44.0                       276.0                 1.0   \n",
              "2                     46.0                       250.0                 1.0   \n",
              "3                     27.0                       261.0                 1.0   \n",
              "4                     37.0                       402.0                 4.0   \n",
              "...                    ...                         ...                 ...   \n",
              "32946                 45.0                        67.0                 2.0   \n",
              "32947                 41.0                       971.0                 1.0   \n",
              "32948                 50.0                       799.0                 1.0   \n",
              "32949                 60.0                       156.0                 2.0   \n",
              "32950                 58.0                       309.0                 1.0   \n",
              "\n",
              "       product_weight_g  product_length_cm  product_height_cm  \\\n",
              "0                 225.0               16.0               10.0   \n",
              "1                1000.0               30.0               18.0   \n",
              "2                 154.0               18.0                9.0   \n",
              "3                 371.0               26.0                4.0   \n",
              "4                 625.0               20.0               17.0   \n",
              "...                 ...                ...                ...   \n",
              "32946           12300.0               40.0               40.0   \n",
              "32947            1700.0               16.0               19.0   \n",
              "32948            1400.0               27.0                7.0   \n",
              "32949             700.0               31.0               13.0   \n",
              "32950            2083.0               12.0                2.0   \n",
              "\n",
              "       product_width_cm  \n",
              "0                  14.0  \n",
              "1                  20.0  \n",
              "2                  15.0  \n",
              "3                  26.0  \n",
              "4                  13.0  \n",
              "...                 ...  \n",
              "32946              40.0  \n",
              "32947              16.0  \n",
              "32948              27.0  \n",
              "32949              20.0  \n",
              "32950               7.0  \n",
              "\n",
              "[32951 rows x 9 columns]"
            ]
          },
          "execution_count": 7,
          "metadata": {},
          "output_type": "execute_result"
        }
      ],
      "source": [
        "df_products"
      ]
    },
    {
      "cell_type": "code",
      "execution_count": 8,
      "metadata": {
        "colab": {
          "base_uri": "https://localhost:8080/",
          "height": 424
        },
        "id": "X-RDtYJ6muvk",
        "outputId": "fa815707-8204-4b94-e306-0a121848789a"
      },
      "outputs": [
        {
          "data": {
            "text/html": [
              "<div>\n",
              "<style scoped>\n",
              "    .dataframe tbody tr th:only-of-type {\n",
              "        vertical-align: middle;\n",
              "    }\n",
              "\n",
              "    .dataframe tbody tr th {\n",
              "        vertical-align: top;\n",
              "    }\n",
              "\n",
              "    .dataframe thead th {\n",
              "        text-align: right;\n",
              "    }\n",
              "</style>\n",
              "<table border=\"1\" class=\"dataframe\">\n",
              "  <thead>\n",
              "    <tr style=\"text-align: right;\">\n",
              "      <th></th>\n",
              "      <th>geolocation_zip_code_prefix</th>\n",
              "      <th>geolocation_lat</th>\n",
              "      <th>geolocation_lng</th>\n",
              "      <th>geolocation_city</th>\n",
              "      <th>geolocation_state</th>\n",
              "    </tr>\n",
              "  </thead>\n",
              "  <tbody>\n",
              "    <tr>\n",
              "      <th>0</th>\n",
              "      <td>1037</td>\n",
              "      <td>-23.545621</td>\n",
              "      <td>-46.639292</td>\n",
              "      <td>sao paulo</td>\n",
              "      <td>SP</td>\n",
              "    </tr>\n",
              "    <tr>\n",
              "      <th>1</th>\n",
              "      <td>1046</td>\n",
              "      <td>-23.546081</td>\n",
              "      <td>-46.644820</td>\n",
              "      <td>sao paulo</td>\n",
              "      <td>SP</td>\n",
              "    </tr>\n",
              "    <tr>\n",
              "      <th>2</th>\n",
              "      <td>1046</td>\n",
              "      <td>-23.546129</td>\n",
              "      <td>-46.642951</td>\n",
              "      <td>sao paulo</td>\n",
              "      <td>SP</td>\n",
              "    </tr>\n",
              "    <tr>\n",
              "      <th>3</th>\n",
              "      <td>1041</td>\n",
              "      <td>-23.544392</td>\n",
              "      <td>-46.639499</td>\n",
              "      <td>sao paulo</td>\n",
              "      <td>SP</td>\n",
              "    </tr>\n",
              "    <tr>\n",
              "      <th>4</th>\n",
              "      <td>1035</td>\n",
              "      <td>-23.541578</td>\n",
              "      <td>-46.641607</td>\n",
              "      <td>sao paulo</td>\n",
              "      <td>SP</td>\n",
              "    </tr>\n",
              "    <tr>\n",
              "      <th>...</th>\n",
              "      <td>...</td>\n",
              "      <td>...</td>\n",
              "      <td>...</td>\n",
              "      <td>...</td>\n",
              "      <td>...</td>\n",
              "    </tr>\n",
              "    <tr>\n",
              "      <th>1000158</th>\n",
              "      <td>99950</td>\n",
              "      <td>-28.068639</td>\n",
              "      <td>-52.010705</td>\n",
              "      <td>tapejara</td>\n",
              "      <td>RS</td>\n",
              "    </tr>\n",
              "    <tr>\n",
              "      <th>1000159</th>\n",
              "      <td>99900</td>\n",
              "      <td>-27.877125</td>\n",
              "      <td>-52.224882</td>\n",
              "      <td>getulio vargas</td>\n",
              "      <td>RS</td>\n",
              "    </tr>\n",
              "    <tr>\n",
              "      <th>1000160</th>\n",
              "      <td>99950</td>\n",
              "      <td>-28.071855</td>\n",
              "      <td>-52.014716</td>\n",
              "      <td>tapejara</td>\n",
              "      <td>RS</td>\n",
              "    </tr>\n",
              "    <tr>\n",
              "      <th>1000161</th>\n",
              "      <td>99980</td>\n",
              "      <td>-28.388932</td>\n",
              "      <td>-51.846871</td>\n",
              "      <td>david canabarro</td>\n",
              "      <td>RS</td>\n",
              "    </tr>\n",
              "    <tr>\n",
              "      <th>1000162</th>\n",
              "      <td>99950</td>\n",
              "      <td>-28.070104</td>\n",
              "      <td>-52.018658</td>\n",
              "      <td>tapejara</td>\n",
              "      <td>RS</td>\n",
              "    </tr>\n",
              "  </tbody>\n",
              "</table>\n",
              "<p>1000163 rows × 5 columns</p>\n",
              "</div>"
            ],
            "text/plain": [
              "         geolocation_zip_code_prefix  geolocation_lat  geolocation_lng  \\\n",
              "0                               1037       -23.545621       -46.639292   \n",
              "1                               1046       -23.546081       -46.644820   \n",
              "2                               1046       -23.546129       -46.642951   \n",
              "3                               1041       -23.544392       -46.639499   \n",
              "4                               1035       -23.541578       -46.641607   \n",
              "...                              ...              ...              ...   \n",
              "1000158                        99950       -28.068639       -52.010705   \n",
              "1000159                        99900       -27.877125       -52.224882   \n",
              "1000160                        99950       -28.071855       -52.014716   \n",
              "1000161                        99980       -28.388932       -51.846871   \n",
              "1000162                        99950       -28.070104       -52.018658   \n",
              "\n",
              "        geolocation_city geolocation_state  \n",
              "0              sao paulo                SP  \n",
              "1              sao paulo                SP  \n",
              "2              sao paulo                SP  \n",
              "3              sao paulo                SP  \n",
              "4              sao paulo                SP  \n",
              "...                  ...               ...  \n",
              "1000158         tapejara                RS  \n",
              "1000159   getulio vargas                RS  \n",
              "1000160         tapejara                RS  \n",
              "1000161  david canabarro                RS  \n",
              "1000162         tapejara                RS  \n",
              "\n",
              "[1000163 rows x 5 columns]"
            ]
          },
          "execution_count": 8,
          "metadata": {},
          "output_type": "execute_result"
        }
      ],
      "source": [
        "df_geolocation"
      ]
    },
    {
      "cell_type": "code",
      "execution_count": 9,
      "metadata": {
        "colab": {
          "base_uri": "https://localhost:8080/",
          "height": 424
        },
        "id": "GSANT0wtmu_K",
        "outputId": "6260e05d-c19f-4e7e-cf84-f4f2a7407f21"
      },
      "outputs": [
        {
          "data": {
            "text/html": [
              "<div>\n",
              "<style scoped>\n",
              "    .dataframe tbody tr th:only-of-type {\n",
              "        vertical-align: middle;\n",
              "    }\n",
              "\n",
              "    .dataframe tbody tr th {\n",
              "        vertical-align: top;\n",
              "    }\n",
              "\n",
              "    .dataframe thead th {\n",
              "        text-align: right;\n",
              "    }\n",
              "</style>\n",
              "<table border=\"1\" class=\"dataframe\">\n",
              "  <thead>\n",
              "    <tr style=\"text-align: right;\">\n",
              "      <th></th>\n",
              "      <th>seller_id</th>\n",
              "      <th>seller_zip_code_prefix</th>\n",
              "      <th>seller_city</th>\n",
              "      <th>seller_state</th>\n",
              "    </tr>\n",
              "  </thead>\n",
              "  <tbody>\n",
              "    <tr>\n",
              "      <th>0</th>\n",
              "      <td>3442f8959a84dea7ee197c632cb2df15</td>\n",
              "      <td>13023</td>\n",
              "      <td>campinas</td>\n",
              "      <td>SP</td>\n",
              "    </tr>\n",
              "    <tr>\n",
              "      <th>1</th>\n",
              "      <td>d1b65fc7debc3361ea86b5f14c68d2e2</td>\n",
              "      <td>13844</td>\n",
              "      <td>mogi guacu</td>\n",
              "      <td>SP</td>\n",
              "    </tr>\n",
              "    <tr>\n",
              "      <th>2</th>\n",
              "      <td>ce3ad9de960102d0677a81f5d0bb7b2d</td>\n",
              "      <td>20031</td>\n",
              "      <td>rio de janeiro</td>\n",
              "      <td>RJ</td>\n",
              "    </tr>\n",
              "    <tr>\n",
              "      <th>3</th>\n",
              "      <td>c0f3eea2e14555b6faeea3dd58c1b1c3</td>\n",
              "      <td>4195</td>\n",
              "      <td>sao paulo</td>\n",
              "      <td>SP</td>\n",
              "    </tr>\n",
              "    <tr>\n",
              "      <th>4</th>\n",
              "      <td>51a04a8a6bdcb23deccc82b0b80742cf</td>\n",
              "      <td>12914</td>\n",
              "      <td>braganca paulista</td>\n",
              "      <td>SP</td>\n",
              "    </tr>\n",
              "    <tr>\n",
              "      <th>...</th>\n",
              "      <td>...</td>\n",
              "      <td>...</td>\n",
              "      <td>...</td>\n",
              "      <td>...</td>\n",
              "    </tr>\n",
              "    <tr>\n",
              "      <th>3090</th>\n",
              "      <td>98dddbc4601dd4443ca174359b237166</td>\n",
              "      <td>87111</td>\n",
              "      <td>sarandi</td>\n",
              "      <td>PR</td>\n",
              "    </tr>\n",
              "    <tr>\n",
              "      <th>3091</th>\n",
              "      <td>f8201cab383e484733266d1906e2fdfa</td>\n",
              "      <td>88137</td>\n",
              "      <td>palhoca</td>\n",
              "      <td>SC</td>\n",
              "    </tr>\n",
              "    <tr>\n",
              "      <th>3092</th>\n",
              "      <td>74871d19219c7d518d0090283e03c137</td>\n",
              "      <td>4650</td>\n",
              "      <td>sao paulo</td>\n",
              "      <td>SP</td>\n",
              "    </tr>\n",
              "    <tr>\n",
              "      <th>3093</th>\n",
              "      <td>e603cf3fec55f8697c9059638d6c8eb5</td>\n",
              "      <td>96080</td>\n",
              "      <td>pelotas</td>\n",
              "      <td>RS</td>\n",
              "    </tr>\n",
              "    <tr>\n",
              "      <th>3094</th>\n",
              "      <td>9e25199f6ef7e7c347120ff175652c3b</td>\n",
              "      <td>12051</td>\n",
              "      <td>taubate</td>\n",
              "      <td>SP</td>\n",
              "    </tr>\n",
              "  </tbody>\n",
              "</table>\n",
              "<p>3095 rows × 4 columns</p>\n",
              "</div>"
            ],
            "text/plain": [
              "                             seller_id  seller_zip_code_prefix  \\\n",
              "0     3442f8959a84dea7ee197c632cb2df15                   13023   \n",
              "1     d1b65fc7debc3361ea86b5f14c68d2e2                   13844   \n",
              "2     ce3ad9de960102d0677a81f5d0bb7b2d                   20031   \n",
              "3     c0f3eea2e14555b6faeea3dd58c1b1c3                    4195   \n",
              "4     51a04a8a6bdcb23deccc82b0b80742cf                   12914   \n",
              "...                                ...                     ...   \n",
              "3090  98dddbc4601dd4443ca174359b237166                   87111   \n",
              "3091  f8201cab383e484733266d1906e2fdfa                   88137   \n",
              "3092  74871d19219c7d518d0090283e03c137                    4650   \n",
              "3093  e603cf3fec55f8697c9059638d6c8eb5                   96080   \n",
              "3094  9e25199f6ef7e7c347120ff175652c3b                   12051   \n",
              "\n",
              "            seller_city seller_state  \n",
              "0              campinas           SP  \n",
              "1            mogi guacu           SP  \n",
              "2        rio de janeiro           RJ  \n",
              "3             sao paulo           SP  \n",
              "4     braganca paulista           SP  \n",
              "...                 ...          ...  \n",
              "3090            sarandi           PR  \n",
              "3091            palhoca           SC  \n",
              "3092          sao paulo           SP  \n",
              "3093            pelotas           RS  \n",
              "3094            taubate           SP  \n",
              "\n",
              "[3095 rows x 4 columns]"
            ]
          },
          "execution_count": 9,
          "metadata": {},
          "output_type": "execute_result"
        }
      ],
      "source": [
        "df_sellers"
      ]
    },
    {
      "cell_type": "code",
      "execution_count": 10,
      "metadata": {
        "colab": {
          "base_uri": "https://localhost:8080/",
          "height": 424
        },
        "id": "amWa1guWmvLM",
        "outputId": "86352686-86a9-4651-cc24-e9cc0185db6f"
      },
      "outputs": [
        {
          "data": {
            "text/html": [
              "<div>\n",
              "<style scoped>\n",
              "    .dataframe tbody tr th:only-of-type {\n",
              "        vertical-align: middle;\n",
              "    }\n",
              "\n",
              "    .dataframe tbody tr th {\n",
              "        vertical-align: top;\n",
              "    }\n",
              "\n",
              "    .dataframe thead th {\n",
              "        text-align: right;\n",
              "    }\n",
              "</style>\n",
              "<table border=\"1\" class=\"dataframe\">\n",
              "  <thead>\n",
              "    <tr style=\"text-align: right;\">\n",
              "      <th></th>\n",
              "      <th>order_id</th>\n",
              "      <th>payment_sequential</th>\n",
              "      <th>payment_type</th>\n",
              "      <th>payment_installments</th>\n",
              "      <th>payment_value</th>\n",
              "    </tr>\n",
              "  </thead>\n",
              "  <tbody>\n",
              "    <tr>\n",
              "      <th>0</th>\n",
              "      <td>b81ef226f3fe1789b1e8b2acac839d17</td>\n",
              "      <td>1</td>\n",
              "      <td>credit_card</td>\n",
              "      <td>8</td>\n",
              "      <td>99.33</td>\n",
              "    </tr>\n",
              "    <tr>\n",
              "      <th>1</th>\n",
              "      <td>a9810da82917af2d9aefd1278f1dcfa0</td>\n",
              "      <td>1</td>\n",
              "      <td>credit_card</td>\n",
              "      <td>1</td>\n",
              "      <td>24.39</td>\n",
              "    </tr>\n",
              "    <tr>\n",
              "      <th>2</th>\n",
              "      <td>25e8ea4e93396b6fa0d3dd708e76c1bd</td>\n",
              "      <td>1</td>\n",
              "      <td>credit_card</td>\n",
              "      <td>1</td>\n",
              "      <td>65.71</td>\n",
              "    </tr>\n",
              "    <tr>\n",
              "      <th>3</th>\n",
              "      <td>ba78997921bbcdc1373bb41e913ab953</td>\n",
              "      <td>1</td>\n",
              "      <td>credit_card</td>\n",
              "      <td>8</td>\n",
              "      <td>107.78</td>\n",
              "    </tr>\n",
              "    <tr>\n",
              "      <th>4</th>\n",
              "      <td>42fdf880ba16b47b59251dd489d4441a</td>\n",
              "      <td>1</td>\n",
              "      <td>credit_card</td>\n",
              "      <td>2</td>\n",
              "      <td>128.45</td>\n",
              "    </tr>\n",
              "    <tr>\n",
              "      <th>...</th>\n",
              "      <td>...</td>\n",
              "      <td>...</td>\n",
              "      <td>...</td>\n",
              "      <td>...</td>\n",
              "      <td>...</td>\n",
              "    </tr>\n",
              "    <tr>\n",
              "      <th>103881</th>\n",
              "      <td>0406037ad97740d563a178ecc7a2075c</td>\n",
              "      <td>1</td>\n",
              "      <td>boleto</td>\n",
              "      <td>1</td>\n",
              "      <td>363.31</td>\n",
              "    </tr>\n",
              "    <tr>\n",
              "      <th>103882</th>\n",
              "      <td>7b905861d7c825891d6347454ea7863f</td>\n",
              "      <td>1</td>\n",
              "      <td>credit_card</td>\n",
              "      <td>2</td>\n",
              "      <td>96.80</td>\n",
              "    </tr>\n",
              "    <tr>\n",
              "      <th>103883</th>\n",
              "      <td>32609bbb3dd69b3c066a6860554a77bf</td>\n",
              "      <td>1</td>\n",
              "      <td>credit_card</td>\n",
              "      <td>1</td>\n",
              "      <td>47.77</td>\n",
              "    </tr>\n",
              "    <tr>\n",
              "      <th>103884</th>\n",
              "      <td>b8b61059626efa996a60be9bb9320e10</td>\n",
              "      <td>1</td>\n",
              "      <td>credit_card</td>\n",
              "      <td>5</td>\n",
              "      <td>369.54</td>\n",
              "    </tr>\n",
              "    <tr>\n",
              "      <th>103885</th>\n",
              "      <td>28bbae6599b09d39ca406b747b6632b1</td>\n",
              "      <td>1</td>\n",
              "      <td>boleto</td>\n",
              "      <td>1</td>\n",
              "      <td>191.58</td>\n",
              "    </tr>\n",
              "  </tbody>\n",
              "</table>\n",
              "<p>103886 rows × 5 columns</p>\n",
              "</div>"
            ],
            "text/plain": [
              "                                order_id  payment_sequential payment_type  \\\n",
              "0       b81ef226f3fe1789b1e8b2acac839d17                   1  credit_card   \n",
              "1       a9810da82917af2d9aefd1278f1dcfa0                   1  credit_card   \n",
              "2       25e8ea4e93396b6fa0d3dd708e76c1bd                   1  credit_card   \n",
              "3       ba78997921bbcdc1373bb41e913ab953                   1  credit_card   \n",
              "4       42fdf880ba16b47b59251dd489d4441a                   1  credit_card   \n",
              "...                                  ...                 ...          ...   \n",
              "103881  0406037ad97740d563a178ecc7a2075c                   1       boleto   \n",
              "103882  7b905861d7c825891d6347454ea7863f                   1  credit_card   \n",
              "103883  32609bbb3dd69b3c066a6860554a77bf                   1  credit_card   \n",
              "103884  b8b61059626efa996a60be9bb9320e10                   1  credit_card   \n",
              "103885  28bbae6599b09d39ca406b747b6632b1                   1       boleto   \n",
              "\n",
              "        payment_installments  payment_value  \n",
              "0                          8          99.33  \n",
              "1                          1          24.39  \n",
              "2                          1          65.71  \n",
              "3                          8         107.78  \n",
              "4                          2         128.45  \n",
              "...                      ...            ...  \n",
              "103881                     1         363.31  \n",
              "103882                     2          96.80  \n",
              "103883                     1          47.77  \n",
              "103884                     5         369.54  \n",
              "103885                     1         191.58  \n",
              "\n",
              "[103886 rows x 5 columns]"
            ]
          },
          "execution_count": 10,
          "metadata": {},
          "output_type": "execute_result"
        }
      ],
      "source": [
        "df_order_pay"
      ]
    },
    {
      "cell_type": "code",
      "execution_count": 11,
      "metadata": {
        "colab": {
          "base_uri": "https://localhost:8080/",
          "height": 424
        },
        "id": "fIY-H-6JmvUd",
        "outputId": "232a3298-5d8a-4e00-9c14-266c23917325"
      },
      "outputs": [
        {
          "data": {
            "text/html": [
              "<div>\n",
              "<style scoped>\n",
              "    .dataframe tbody tr th:only-of-type {\n",
              "        vertical-align: middle;\n",
              "    }\n",
              "\n",
              "    .dataframe tbody tr th {\n",
              "        vertical-align: top;\n",
              "    }\n",
              "\n",
              "    .dataframe thead th {\n",
              "        text-align: right;\n",
              "    }\n",
              "</style>\n",
              "<table border=\"1\" class=\"dataframe\">\n",
              "  <thead>\n",
              "    <tr style=\"text-align: right;\">\n",
              "      <th></th>\n",
              "      <th>customer_id</th>\n",
              "      <th>customer_unique_id</th>\n",
              "      <th>customer_zip_code_prefix</th>\n",
              "      <th>customer_city</th>\n",
              "      <th>customer_state</th>\n",
              "    </tr>\n",
              "  </thead>\n",
              "  <tbody>\n",
              "    <tr>\n",
              "      <th>0</th>\n",
              "      <td>06b8999e2fba1a1fbc88172c00ba8bc7</td>\n",
              "      <td>861eff4711a542e4b93843c6dd7febb0</td>\n",
              "      <td>14409</td>\n",
              "      <td>franca</td>\n",
              "      <td>SP</td>\n",
              "    </tr>\n",
              "    <tr>\n",
              "      <th>1</th>\n",
              "      <td>18955e83d337fd6b2def6b18a428ac77</td>\n",
              "      <td>290c77bc529b7ac935b93aa66c333dc3</td>\n",
              "      <td>9790</td>\n",
              "      <td>sao bernardo do campo</td>\n",
              "      <td>SP</td>\n",
              "    </tr>\n",
              "    <tr>\n",
              "      <th>2</th>\n",
              "      <td>4e7b3e00288586ebd08712fdd0374a03</td>\n",
              "      <td>060e732b5b29e8181a18229c7b0b2b5e</td>\n",
              "      <td>1151</td>\n",
              "      <td>sao paulo</td>\n",
              "      <td>SP</td>\n",
              "    </tr>\n",
              "    <tr>\n",
              "      <th>3</th>\n",
              "      <td>b2b6027bc5c5109e529d4dc6358b12c3</td>\n",
              "      <td>259dac757896d24d7702b9acbbff3f3c</td>\n",
              "      <td>8775</td>\n",
              "      <td>mogi das cruzes</td>\n",
              "      <td>SP</td>\n",
              "    </tr>\n",
              "    <tr>\n",
              "      <th>4</th>\n",
              "      <td>4f2d8ab171c80ec8364f7c12e35b23ad</td>\n",
              "      <td>345ecd01c38d18a9036ed96c73b8d066</td>\n",
              "      <td>13056</td>\n",
              "      <td>campinas</td>\n",
              "      <td>SP</td>\n",
              "    </tr>\n",
              "    <tr>\n",
              "      <th>...</th>\n",
              "      <td>...</td>\n",
              "      <td>...</td>\n",
              "      <td>...</td>\n",
              "      <td>...</td>\n",
              "      <td>...</td>\n",
              "    </tr>\n",
              "    <tr>\n",
              "      <th>99436</th>\n",
              "      <td>17ddf5dd5d51696bb3d7c6291687be6f</td>\n",
              "      <td>1a29b476fee25c95fbafc67c5ac95cf8</td>\n",
              "      <td>3937</td>\n",
              "      <td>sao paulo</td>\n",
              "      <td>SP</td>\n",
              "    </tr>\n",
              "    <tr>\n",
              "      <th>99437</th>\n",
              "      <td>e7b71a9017aa05c9a7fd292d714858e8</td>\n",
              "      <td>d52a67c98be1cf6a5c84435bd38d095d</td>\n",
              "      <td>6764</td>\n",
              "      <td>taboao da serra</td>\n",
              "      <td>SP</td>\n",
              "    </tr>\n",
              "    <tr>\n",
              "      <th>99438</th>\n",
              "      <td>5e28dfe12db7fb50a4b2f691faecea5e</td>\n",
              "      <td>e9f50caf99f032f0bf3c55141f019d99</td>\n",
              "      <td>60115</td>\n",
              "      <td>fortaleza</td>\n",
              "      <td>CE</td>\n",
              "    </tr>\n",
              "    <tr>\n",
              "      <th>99439</th>\n",
              "      <td>56b18e2166679b8a959d72dd06da27f9</td>\n",
              "      <td>73c2643a0a458b49f58cea58833b192e</td>\n",
              "      <td>92120</td>\n",
              "      <td>canoas</td>\n",
              "      <td>RS</td>\n",
              "    </tr>\n",
              "    <tr>\n",
              "      <th>99440</th>\n",
              "      <td>274fa6071e5e17fe303b9748641082c8</td>\n",
              "      <td>84732c5050c01db9b23e19ba39899398</td>\n",
              "      <td>6703</td>\n",
              "      <td>cotia</td>\n",
              "      <td>SP</td>\n",
              "    </tr>\n",
              "  </tbody>\n",
              "</table>\n",
              "<p>99441 rows × 5 columns</p>\n",
              "</div>"
            ],
            "text/plain": [
              "                            customer_id                customer_unique_id  \\\n",
              "0      06b8999e2fba1a1fbc88172c00ba8bc7  861eff4711a542e4b93843c6dd7febb0   \n",
              "1      18955e83d337fd6b2def6b18a428ac77  290c77bc529b7ac935b93aa66c333dc3   \n",
              "2      4e7b3e00288586ebd08712fdd0374a03  060e732b5b29e8181a18229c7b0b2b5e   \n",
              "3      b2b6027bc5c5109e529d4dc6358b12c3  259dac757896d24d7702b9acbbff3f3c   \n",
              "4      4f2d8ab171c80ec8364f7c12e35b23ad  345ecd01c38d18a9036ed96c73b8d066   \n",
              "...                                 ...                               ...   \n",
              "99436  17ddf5dd5d51696bb3d7c6291687be6f  1a29b476fee25c95fbafc67c5ac95cf8   \n",
              "99437  e7b71a9017aa05c9a7fd292d714858e8  d52a67c98be1cf6a5c84435bd38d095d   \n",
              "99438  5e28dfe12db7fb50a4b2f691faecea5e  e9f50caf99f032f0bf3c55141f019d99   \n",
              "99439  56b18e2166679b8a959d72dd06da27f9  73c2643a0a458b49f58cea58833b192e   \n",
              "99440  274fa6071e5e17fe303b9748641082c8  84732c5050c01db9b23e19ba39899398   \n",
              "\n",
              "       customer_zip_code_prefix          customer_city customer_state  \n",
              "0                         14409                 franca             SP  \n",
              "1                          9790  sao bernardo do campo             SP  \n",
              "2                          1151              sao paulo             SP  \n",
              "3                          8775        mogi das cruzes             SP  \n",
              "4                         13056               campinas             SP  \n",
              "...                         ...                    ...            ...  \n",
              "99436                      3937              sao paulo             SP  \n",
              "99437                      6764        taboao da serra             SP  \n",
              "99438                     60115              fortaleza             CE  \n",
              "99439                     92120                 canoas             RS  \n",
              "99440                      6703                  cotia             SP  \n",
              "\n",
              "[99441 rows x 5 columns]"
            ]
          },
          "execution_count": 11,
          "metadata": {},
          "output_type": "execute_result"
        }
      ],
      "source": [
        "df_customers"
      ]
    },
    {
      "cell_type": "code",
      "execution_count": 12,
      "metadata": {
        "colab": {
          "base_uri": "https://localhost:8080/",
          "height": 424
        },
        "id": "rvLd1xQ7qblP",
        "outputId": "83007436-f94b-49f0-e20d-46ac35159882"
      },
      "outputs": [
        {
          "data": {
            "text/html": [
              "<div>\n",
              "<style scoped>\n",
              "    .dataframe tbody tr th:only-of-type {\n",
              "        vertical-align: middle;\n",
              "    }\n",
              "\n",
              "    .dataframe tbody tr th {\n",
              "        vertical-align: top;\n",
              "    }\n",
              "\n",
              "    .dataframe thead th {\n",
              "        text-align: right;\n",
              "    }\n",
              "</style>\n",
              "<table border=\"1\" class=\"dataframe\">\n",
              "  <thead>\n",
              "    <tr style=\"text-align: right;\">\n",
              "      <th></th>\n",
              "      <th>product_category_name</th>\n",
              "      <th>product_category_name_english</th>\n",
              "    </tr>\n",
              "  </thead>\n",
              "  <tbody>\n",
              "    <tr>\n",
              "      <th>0</th>\n",
              "      <td>beleza_saude</td>\n",
              "      <td>health_beauty</td>\n",
              "    </tr>\n",
              "    <tr>\n",
              "      <th>1</th>\n",
              "      <td>informatica_acessorios</td>\n",
              "      <td>computers_accessories</td>\n",
              "    </tr>\n",
              "    <tr>\n",
              "      <th>2</th>\n",
              "      <td>automotivo</td>\n",
              "      <td>auto</td>\n",
              "    </tr>\n",
              "    <tr>\n",
              "      <th>3</th>\n",
              "      <td>cama_mesa_banho</td>\n",
              "      <td>bed_bath_table</td>\n",
              "    </tr>\n",
              "    <tr>\n",
              "      <th>4</th>\n",
              "      <td>moveis_decoracao</td>\n",
              "      <td>furniture_decor</td>\n",
              "    </tr>\n",
              "    <tr>\n",
              "      <th>...</th>\n",
              "      <td>...</td>\n",
              "      <td>...</td>\n",
              "    </tr>\n",
              "    <tr>\n",
              "      <th>66</th>\n",
              "      <td>flores</td>\n",
              "      <td>flowers</td>\n",
              "    </tr>\n",
              "    <tr>\n",
              "      <th>67</th>\n",
              "      <td>artes_e_artesanato</td>\n",
              "      <td>arts_and_craftmanship</td>\n",
              "    </tr>\n",
              "    <tr>\n",
              "      <th>68</th>\n",
              "      <td>fraldas_higiene</td>\n",
              "      <td>diapers_and_hygiene</td>\n",
              "    </tr>\n",
              "    <tr>\n",
              "      <th>69</th>\n",
              "      <td>fashion_roupa_infanto_juvenil</td>\n",
              "      <td>fashion_childrens_clothes</td>\n",
              "    </tr>\n",
              "    <tr>\n",
              "      <th>70</th>\n",
              "      <td>seguros_e_servicos</td>\n",
              "      <td>security_and_services</td>\n",
              "    </tr>\n",
              "  </tbody>\n",
              "</table>\n",
              "<p>71 rows × 2 columns</p>\n",
              "</div>"
            ],
            "text/plain": [
              "            product_category_name product_category_name_english\n",
              "0                    beleza_saude                 health_beauty\n",
              "1          informatica_acessorios         computers_accessories\n",
              "2                      automotivo                          auto\n",
              "3                 cama_mesa_banho                bed_bath_table\n",
              "4                moveis_decoracao               furniture_decor\n",
              "..                            ...                           ...\n",
              "66                         flores                       flowers\n",
              "67             artes_e_artesanato         arts_and_craftmanship\n",
              "68                fraldas_higiene           diapers_and_hygiene\n",
              "69  fashion_roupa_infanto_juvenil     fashion_childrens_clothes\n",
              "70             seguros_e_servicos         security_and_services\n",
              "\n",
              "[71 rows x 2 columns]"
            ]
          },
          "execution_count": 12,
          "metadata": {},
          "output_type": "execute_result"
        }
      ],
      "source": [
        "df_category"
      ]
    },
    {
      "cell_type": "markdown",
      "metadata": {
        "id": "FHSiqaZp8DC1"
      },
      "source": [
        "### Assessing Data"
      ]
    },
    {
      "cell_type": "code",
      "execution_count": 13,
      "metadata": {
        "colab": {
          "base_uri": "https://localhost:8080/",
          "height": 578
        },
        "id": "purbO_NQjImG",
        "outputId": "61c02ba4-695c-4401-c7b9-52d5a47bf455"
      },
      "outputs": [
        {
          "name": "stdout",
          "output_type": "stream",
          "text": [
            "order_items_datasets\n",
            "<class 'pandas.core.frame.DataFrame'>\n",
            "RangeIndex: 112650 entries, 0 to 112649\n",
            "Data columns (total 7 columns):\n",
            " #   Column               Non-Null Count   Dtype  \n",
            "---  ------               --------------   -----  \n",
            " 0   order_id             112650 non-null  object \n",
            " 1   order_item_id        112650 non-null  int64  \n",
            " 2   product_id           112650 non-null  object \n",
            " 3   seller_id            112650 non-null  object \n",
            " 4   shipping_limit_date  112650 non-null  object \n",
            " 5   price                112650 non-null  float64\n",
            " 6   freight_value        112650 non-null  float64\n",
            "dtypes: float64(2), int64(1), object(4)\n",
            "memory usage: 6.0+ MB\n",
            "\n"
          ]
        },
        {
          "data": {
            "text/html": [
              "<div>\n",
              "<style scoped>\n",
              "    .dataframe tbody tr th:only-of-type {\n",
              "        vertical-align: middle;\n",
              "    }\n",
              "\n",
              "    .dataframe tbody tr th {\n",
              "        vertical-align: top;\n",
              "    }\n",
              "\n",
              "    .dataframe thead th {\n",
              "        text-align: right;\n",
              "    }\n",
              "</style>\n",
              "<table border=\"1\" class=\"dataframe\">\n",
              "  <thead>\n",
              "    <tr style=\"text-align: right;\">\n",
              "      <th></th>\n",
              "      <th>order_item_id</th>\n",
              "      <th>price</th>\n",
              "      <th>freight_value</th>\n",
              "    </tr>\n",
              "  </thead>\n",
              "  <tbody>\n",
              "    <tr>\n",
              "      <th>count</th>\n",
              "      <td>112650.000000</td>\n",
              "      <td>112650.000000</td>\n",
              "      <td>112650.000000</td>\n",
              "    </tr>\n",
              "    <tr>\n",
              "      <th>mean</th>\n",
              "      <td>1.197834</td>\n",
              "      <td>120.653739</td>\n",
              "      <td>19.990320</td>\n",
              "    </tr>\n",
              "    <tr>\n",
              "      <th>std</th>\n",
              "      <td>0.705124</td>\n",
              "      <td>183.633928</td>\n",
              "      <td>15.806405</td>\n",
              "    </tr>\n",
              "    <tr>\n",
              "      <th>min</th>\n",
              "      <td>1.000000</td>\n",
              "      <td>0.850000</td>\n",
              "      <td>0.000000</td>\n",
              "    </tr>\n",
              "    <tr>\n",
              "      <th>25%</th>\n",
              "      <td>1.000000</td>\n",
              "      <td>39.900000</td>\n",
              "      <td>13.080000</td>\n",
              "    </tr>\n",
              "    <tr>\n",
              "      <th>50%</th>\n",
              "      <td>1.000000</td>\n",
              "      <td>74.990000</td>\n",
              "      <td>16.260000</td>\n",
              "    </tr>\n",
              "    <tr>\n",
              "      <th>75%</th>\n",
              "      <td>1.000000</td>\n",
              "      <td>134.900000</td>\n",
              "      <td>21.150000</td>\n",
              "    </tr>\n",
              "    <tr>\n",
              "      <th>max</th>\n",
              "      <td>21.000000</td>\n",
              "      <td>6735.000000</td>\n",
              "      <td>409.680000</td>\n",
              "    </tr>\n",
              "  </tbody>\n",
              "</table>\n",
              "</div>"
            ],
            "text/plain": [
              "       order_item_id          price  freight_value\n",
              "count  112650.000000  112650.000000  112650.000000\n",
              "mean        1.197834     120.653739      19.990320\n",
              "std         0.705124     183.633928      15.806405\n",
              "min         1.000000       0.850000       0.000000\n",
              "25%         1.000000      39.900000      13.080000\n",
              "50%         1.000000      74.990000      16.260000\n",
              "75%         1.000000     134.900000      21.150000\n",
              "max        21.000000    6735.000000     409.680000"
            ]
          },
          "execution_count": 13,
          "metadata": {},
          "output_type": "execute_result"
        }
      ],
      "source": [
        "print(\"order_items_datasets\")\n",
        "df_item.info()\n",
        "print()\n",
        "df_item.describe()"
      ]
    },
    {
      "cell_type": "code",
      "execution_count": 14,
      "metadata": {
        "colab": {
          "base_uri": "https://localhost:8080/",
          "height": 578
        },
        "id": "3NoX1Y4q83GW",
        "outputId": "c7f138d2-b1bc-4528-c8c7-ef035fbfcd1c"
      },
      "outputs": [
        {
          "name": "stdout",
          "output_type": "stream",
          "text": [
            "order_reviews_dataset\n",
            "<class 'pandas.core.frame.DataFrame'>\n",
            "RangeIndex: 99224 entries, 0 to 99223\n",
            "Data columns (total 7 columns):\n",
            " #   Column                   Non-Null Count  Dtype \n",
            "---  ------                   --------------  ----- \n",
            " 0   review_id                99224 non-null  object\n",
            " 1   order_id                 99224 non-null  object\n",
            " 2   review_score             99224 non-null  int64 \n",
            " 3   review_comment_title     11568 non-null  object\n",
            " 4   review_comment_message   40977 non-null  object\n",
            " 5   review_creation_date     99224 non-null  object\n",
            " 6   review_answer_timestamp  99224 non-null  object\n",
            "dtypes: int64(1), object(6)\n",
            "memory usage: 5.3+ MB\n",
            "\n"
          ]
        },
        {
          "data": {
            "text/html": [
              "<div>\n",
              "<style scoped>\n",
              "    .dataframe tbody tr th:only-of-type {\n",
              "        vertical-align: middle;\n",
              "    }\n",
              "\n",
              "    .dataframe tbody tr th {\n",
              "        vertical-align: top;\n",
              "    }\n",
              "\n",
              "    .dataframe thead th {\n",
              "        text-align: right;\n",
              "    }\n",
              "</style>\n",
              "<table border=\"1\" class=\"dataframe\">\n",
              "  <thead>\n",
              "    <tr style=\"text-align: right;\">\n",
              "      <th></th>\n",
              "      <th>review_score</th>\n",
              "    </tr>\n",
              "  </thead>\n",
              "  <tbody>\n",
              "    <tr>\n",
              "      <th>count</th>\n",
              "      <td>99224.000000</td>\n",
              "    </tr>\n",
              "    <tr>\n",
              "      <th>mean</th>\n",
              "      <td>4.086421</td>\n",
              "    </tr>\n",
              "    <tr>\n",
              "      <th>std</th>\n",
              "      <td>1.347579</td>\n",
              "    </tr>\n",
              "    <tr>\n",
              "      <th>min</th>\n",
              "      <td>1.000000</td>\n",
              "    </tr>\n",
              "    <tr>\n",
              "      <th>25%</th>\n",
              "      <td>4.000000</td>\n",
              "    </tr>\n",
              "    <tr>\n",
              "      <th>50%</th>\n",
              "      <td>5.000000</td>\n",
              "    </tr>\n",
              "    <tr>\n",
              "      <th>75%</th>\n",
              "      <td>5.000000</td>\n",
              "    </tr>\n",
              "    <tr>\n",
              "      <th>max</th>\n",
              "      <td>5.000000</td>\n",
              "    </tr>\n",
              "  </tbody>\n",
              "</table>\n",
              "</div>"
            ],
            "text/plain": [
              "       review_score\n",
              "count  99224.000000\n",
              "mean       4.086421\n",
              "std        1.347579\n",
              "min        1.000000\n",
              "25%        4.000000\n",
              "50%        5.000000\n",
              "75%        5.000000\n",
              "max        5.000000"
            ]
          },
          "execution_count": 14,
          "metadata": {},
          "output_type": "execute_result"
        }
      ],
      "source": [
        "print(\"order_reviews_dataset\")\n",
        "df_reviews.info()\n",
        "print()\n",
        "df_reviews.describe()"
      ]
    },
    {
      "cell_type": "code",
      "execution_count": 15,
      "metadata": {
        "colab": {
          "base_uri": "https://localhost:8080/",
          "height": 490
        },
        "id": "es6HDIbe81ss",
        "outputId": "3b197863-85e1-4444-dc86-8e45f24252a7"
      },
      "outputs": [
        {
          "name": "stdout",
          "output_type": "stream",
          "text": [
            "orders_datasets\n",
            "<class 'pandas.core.frame.DataFrame'>\n",
            "RangeIndex: 99441 entries, 0 to 99440\n",
            "Data columns (total 8 columns):\n",
            " #   Column                         Non-Null Count  Dtype \n",
            "---  ------                         --------------  ----- \n",
            " 0   order_id                       99441 non-null  object\n",
            " 1   customer_id                    99441 non-null  object\n",
            " 2   order_status                   99441 non-null  object\n",
            " 3   order_purchase_timestamp       99441 non-null  object\n",
            " 4   order_approved_at              99281 non-null  object\n",
            " 5   order_delivered_carrier_date   97658 non-null  object\n",
            " 6   order_delivered_customer_date  96476 non-null  object\n",
            " 7   order_estimated_delivery_date  99441 non-null  object\n",
            "dtypes: object(8)\n",
            "memory usage: 6.1+ MB\n",
            "\n"
          ]
        },
        {
          "data": {
            "text/html": [
              "<div>\n",
              "<style scoped>\n",
              "    .dataframe tbody tr th:only-of-type {\n",
              "        vertical-align: middle;\n",
              "    }\n",
              "\n",
              "    .dataframe tbody tr th {\n",
              "        vertical-align: top;\n",
              "    }\n",
              "\n",
              "    .dataframe thead th {\n",
              "        text-align: right;\n",
              "    }\n",
              "</style>\n",
              "<table border=\"1\" class=\"dataframe\">\n",
              "  <thead>\n",
              "    <tr style=\"text-align: right;\">\n",
              "      <th></th>\n",
              "      <th>order_id</th>\n",
              "      <th>customer_id</th>\n",
              "      <th>order_status</th>\n",
              "      <th>order_purchase_timestamp</th>\n",
              "      <th>order_approved_at</th>\n",
              "      <th>order_delivered_carrier_date</th>\n",
              "      <th>order_delivered_customer_date</th>\n",
              "      <th>order_estimated_delivery_date</th>\n",
              "    </tr>\n",
              "  </thead>\n",
              "  <tbody>\n",
              "    <tr>\n",
              "      <th>count</th>\n",
              "      <td>99441</td>\n",
              "      <td>99441</td>\n",
              "      <td>99441</td>\n",
              "      <td>99441</td>\n",
              "      <td>99281</td>\n",
              "      <td>97658</td>\n",
              "      <td>96476</td>\n",
              "      <td>99441</td>\n",
              "    </tr>\n",
              "    <tr>\n",
              "      <th>unique</th>\n",
              "      <td>99441</td>\n",
              "      <td>99441</td>\n",
              "      <td>8</td>\n",
              "      <td>98875</td>\n",
              "      <td>90733</td>\n",
              "      <td>81018</td>\n",
              "      <td>95664</td>\n",
              "      <td>459</td>\n",
              "    </tr>\n",
              "    <tr>\n",
              "      <th>top</th>\n",
              "      <td>66dea50a8b16d9b4dee7af250b4be1a5</td>\n",
              "      <td>edb027a75a1449115f6b43211ae02a24</td>\n",
              "      <td>delivered</td>\n",
              "      <td>2018-08-02 12:05:26</td>\n",
              "      <td>2018-02-27 04:31:10</td>\n",
              "      <td>2018-05-09 15:48:00</td>\n",
              "      <td>2018-05-08 19:36:48</td>\n",
              "      <td>2017-12-20 00:00:00</td>\n",
              "    </tr>\n",
              "    <tr>\n",
              "      <th>freq</th>\n",
              "      <td>1</td>\n",
              "      <td>1</td>\n",
              "      <td>96478</td>\n",
              "      <td>3</td>\n",
              "      <td>9</td>\n",
              "      <td>47</td>\n",
              "      <td>3</td>\n",
              "      <td>522</td>\n",
              "    </tr>\n",
              "  </tbody>\n",
              "</table>\n",
              "</div>"
            ],
            "text/plain": [
              "                                order_id                       customer_id  \\\n",
              "count                              99441                             99441   \n",
              "unique                             99441                             99441   \n",
              "top     66dea50a8b16d9b4dee7af250b4be1a5  edb027a75a1449115f6b43211ae02a24   \n",
              "freq                                   1                                 1   \n",
              "\n",
              "       order_status order_purchase_timestamp    order_approved_at  \\\n",
              "count         99441                    99441                99281   \n",
              "unique            8                    98875                90733   \n",
              "top       delivered      2018-08-02 12:05:26  2018-02-27 04:31:10   \n",
              "freq          96478                        3                    9   \n",
              "\n",
              "       order_delivered_carrier_date order_delivered_customer_date  \\\n",
              "count                         97658                         96476   \n",
              "unique                        81018                         95664   \n",
              "top             2018-05-09 15:48:00           2018-05-08 19:36:48   \n",
              "freq                             47                             3   \n",
              "\n",
              "       order_estimated_delivery_date  \n",
              "count                          99441  \n",
              "unique                           459  \n",
              "top              2017-12-20 00:00:00  \n",
              "freq                             522  "
            ]
          },
          "execution_count": 15,
          "metadata": {},
          "output_type": "execute_result"
        }
      ],
      "source": [
        "print(\"orders_datasets\")\n",
        "df_orders.info()\n",
        "print()\n",
        "df_orders.describe()\n"
      ]
    },
    {
      "cell_type": "code",
      "execution_count": 16,
      "metadata": {
        "colab": {
          "base_uri": "https://localhost:8080/",
          "height": 613
        },
        "id": "IFeK3dyB04pL",
        "outputId": "31acced8-b7e0-4f50-f240-cca0ad5ab148"
      },
      "outputs": [
        {
          "name": "stdout",
          "output_type": "stream",
          "text": [
            "products_datasets\n",
            "<class 'pandas.core.frame.DataFrame'>\n",
            "RangeIndex: 32951 entries, 0 to 32950\n",
            "Data columns (total 9 columns):\n",
            " #   Column                      Non-Null Count  Dtype  \n",
            "---  ------                      --------------  -----  \n",
            " 0   product_id                  32951 non-null  object \n",
            " 1   product_category_name       32341 non-null  object \n",
            " 2   product_name_lenght         32341 non-null  float64\n",
            " 3   product_description_lenght  32341 non-null  float64\n",
            " 4   product_photos_qty          32341 non-null  float64\n",
            " 5   product_weight_g            32949 non-null  float64\n",
            " 6   product_length_cm           32949 non-null  float64\n",
            " 7   product_height_cm           32949 non-null  float64\n",
            " 8   product_width_cm            32949 non-null  float64\n",
            "dtypes: float64(7), object(2)\n",
            "memory usage: 2.3+ MB\n",
            "\n"
          ]
        },
        {
          "data": {
            "text/html": [
              "<div>\n",
              "<style scoped>\n",
              "    .dataframe tbody tr th:only-of-type {\n",
              "        vertical-align: middle;\n",
              "    }\n",
              "\n",
              "    .dataframe tbody tr th {\n",
              "        vertical-align: top;\n",
              "    }\n",
              "\n",
              "    .dataframe thead th {\n",
              "        text-align: right;\n",
              "    }\n",
              "</style>\n",
              "<table border=\"1\" class=\"dataframe\">\n",
              "  <thead>\n",
              "    <tr style=\"text-align: right;\">\n",
              "      <th></th>\n",
              "      <th>product_name_lenght</th>\n",
              "      <th>product_description_lenght</th>\n",
              "      <th>product_photos_qty</th>\n",
              "      <th>product_weight_g</th>\n",
              "      <th>product_length_cm</th>\n",
              "      <th>product_height_cm</th>\n",
              "      <th>product_width_cm</th>\n",
              "    </tr>\n",
              "  </thead>\n",
              "  <tbody>\n",
              "    <tr>\n",
              "      <th>count</th>\n",
              "      <td>32341.000000</td>\n",
              "      <td>32341.000000</td>\n",
              "      <td>32341.000000</td>\n",
              "      <td>32949.000000</td>\n",
              "      <td>32949.000000</td>\n",
              "      <td>32949.000000</td>\n",
              "      <td>32949.000000</td>\n",
              "    </tr>\n",
              "    <tr>\n",
              "      <th>mean</th>\n",
              "      <td>48.476949</td>\n",
              "      <td>771.495285</td>\n",
              "      <td>2.188986</td>\n",
              "      <td>2276.472488</td>\n",
              "      <td>30.815078</td>\n",
              "      <td>16.937661</td>\n",
              "      <td>23.196728</td>\n",
              "    </tr>\n",
              "    <tr>\n",
              "      <th>std</th>\n",
              "      <td>10.245741</td>\n",
              "      <td>635.115225</td>\n",
              "      <td>1.736766</td>\n",
              "      <td>4282.038731</td>\n",
              "      <td>16.914458</td>\n",
              "      <td>13.637554</td>\n",
              "      <td>12.079047</td>\n",
              "    </tr>\n",
              "    <tr>\n",
              "      <th>min</th>\n",
              "      <td>5.000000</td>\n",
              "      <td>4.000000</td>\n",
              "      <td>1.000000</td>\n",
              "      <td>0.000000</td>\n",
              "      <td>7.000000</td>\n",
              "      <td>2.000000</td>\n",
              "      <td>6.000000</td>\n",
              "    </tr>\n",
              "    <tr>\n",
              "      <th>25%</th>\n",
              "      <td>42.000000</td>\n",
              "      <td>339.000000</td>\n",
              "      <td>1.000000</td>\n",
              "      <td>300.000000</td>\n",
              "      <td>18.000000</td>\n",
              "      <td>8.000000</td>\n",
              "      <td>15.000000</td>\n",
              "    </tr>\n",
              "    <tr>\n",
              "      <th>50%</th>\n",
              "      <td>51.000000</td>\n",
              "      <td>595.000000</td>\n",
              "      <td>1.000000</td>\n",
              "      <td>700.000000</td>\n",
              "      <td>25.000000</td>\n",
              "      <td>13.000000</td>\n",
              "      <td>20.000000</td>\n",
              "    </tr>\n",
              "    <tr>\n",
              "      <th>75%</th>\n",
              "      <td>57.000000</td>\n",
              "      <td>972.000000</td>\n",
              "      <td>3.000000</td>\n",
              "      <td>1900.000000</td>\n",
              "      <td>38.000000</td>\n",
              "      <td>21.000000</td>\n",
              "      <td>30.000000</td>\n",
              "    </tr>\n",
              "    <tr>\n",
              "      <th>max</th>\n",
              "      <td>76.000000</td>\n",
              "      <td>3992.000000</td>\n",
              "      <td>20.000000</td>\n",
              "      <td>40425.000000</td>\n",
              "      <td>105.000000</td>\n",
              "      <td>105.000000</td>\n",
              "      <td>118.000000</td>\n",
              "    </tr>\n",
              "  </tbody>\n",
              "</table>\n",
              "</div>"
            ],
            "text/plain": [
              "       product_name_lenght  product_description_lenght  product_photos_qty  \\\n",
              "count         32341.000000                32341.000000        32341.000000   \n",
              "mean             48.476949                  771.495285            2.188986   \n",
              "std              10.245741                  635.115225            1.736766   \n",
              "min               5.000000                    4.000000            1.000000   \n",
              "25%              42.000000                  339.000000            1.000000   \n",
              "50%              51.000000                  595.000000            1.000000   \n",
              "75%              57.000000                  972.000000            3.000000   \n",
              "max              76.000000                 3992.000000           20.000000   \n",
              "\n",
              "       product_weight_g  product_length_cm  product_height_cm  \\\n",
              "count      32949.000000       32949.000000       32949.000000   \n",
              "mean        2276.472488          30.815078          16.937661   \n",
              "std         4282.038731          16.914458          13.637554   \n",
              "min            0.000000           7.000000           2.000000   \n",
              "25%          300.000000          18.000000           8.000000   \n",
              "50%          700.000000          25.000000          13.000000   \n",
              "75%         1900.000000          38.000000          21.000000   \n",
              "max        40425.000000         105.000000         105.000000   \n",
              "\n",
              "       product_width_cm  \n",
              "count      32949.000000  \n",
              "mean          23.196728  \n",
              "std           12.079047  \n",
              "min            6.000000  \n",
              "25%           15.000000  \n",
              "50%           20.000000  \n",
              "75%           30.000000  \n",
              "max          118.000000  "
            ]
          },
          "execution_count": 16,
          "metadata": {},
          "output_type": "execute_result"
        }
      ],
      "source": [
        "print(\"products_datasets\")\n",
        "df_products.info()\n",
        "print()\n",
        "df_products.describe()"
      ]
    },
    {
      "cell_type": "code",
      "execution_count": 17,
      "metadata": {
        "colab": {
          "base_uri": "https://localhost:8080/",
          "height": 543
        },
        "id": "sDJW-gvd2dRj",
        "outputId": "c2de3be6-5c0d-4157-8db9-17b9619cd8a9"
      },
      "outputs": [
        {
          "name": "stdout",
          "output_type": "stream",
          "text": [
            "geolocation_datasets\n",
            "<class 'pandas.core.frame.DataFrame'>\n",
            "RangeIndex: 1000163 entries, 0 to 1000162\n",
            "Data columns (total 5 columns):\n",
            " #   Column                       Non-Null Count    Dtype  \n",
            "---  ------                       --------------    -----  \n",
            " 0   geolocation_zip_code_prefix  1000163 non-null  int64  \n",
            " 1   geolocation_lat              1000163 non-null  float64\n",
            " 2   geolocation_lng              1000163 non-null  float64\n",
            " 3   geolocation_city             1000163 non-null  object \n",
            " 4   geolocation_state            1000163 non-null  object \n",
            "dtypes: float64(2), int64(1), object(2)\n",
            "memory usage: 38.2+ MB\n",
            "\n"
          ]
        },
        {
          "data": {
            "text/html": [
              "<div>\n",
              "<style scoped>\n",
              "    .dataframe tbody tr th:only-of-type {\n",
              "        vertical-align: middle;\n",
              "    }\n",
              "\n",
              "    .dataframe tbody tr th {\n",
              "        vertical-align: top;\n",
              "    }\n",
              "\n",
              "    .dataframe thead th {\n",
              "        text-align: right;\n",
              "    }\n",
              "</style>\n",
              "<table border=\"1\" class=\"dataframe\">\n",
              "  <thead>\n",
              "    <tr style=\"text-align: right;\">\n",
              "      <th></th>\n",
              "      <th>geolocation_zip_code_prefix</th>\n",
              "      <th>geolocation_lat</th>\n",
              "      <th>geolocation_lng</th>\n",
              "    </tr>\n",
              "  </thead>\n",
              "  <tbody>\n",
              "    <tr>\n",
              "      <th>count</th>\n",
              "      <td>1.000163e+06</td>\n",
              "      <td>1.000163e+06</td>\n",
              "      <td>1.000163e+06</td>\n",
              "    </tr>\n",
              "    <tr>\n",
              "      <th>mean</th>\n",
              "      <td>3.657417e+04</td>\n",
              "      <td>-2.117615e+01</td>\n",
              "      <td>-4.639054e+01</td>\n",
              "    </tr>\n",
              "    <tr>\n",
              "      <th>std</th>\n",
              "      <td>3.054934e+04</td>\n",
              "      <td>5.715866e+00</td>\n",
              "      <td>4.269748e+00</td>\n",
              "    </tr>\n",
              "    <tr>\n",
              "      <th>min</th>\n",
              "      <td>1.001000e+03</td>\n",
              "      <td>-3.660537e+01</td>\n",
              "      <td>-1.014668e+02</td>\n",
              "    </tr>\n",
              "    <tr>\n",
              "      <th>25%</th>\n",
              "      <td>1.107500e+04</td>\n",
              "      <td>-2.360355e+01</td>\n",
              "      <td>-4.857317e+01</td>\n",
              "    </tr>\n",
              "    <tr>\n",
              "      <th>50%</th>\n",
              "      <td>2.653000e+04</td>\n",
              "      <td>-2.291938e+01</td>\n",
              "      <td>-4.663788e+01</td>\n",
              "    </tr>\n",
              "    <tr>\n",
              "      <th>75%</th>\n",
              "      <td>6.350400e+04</td>\n",
              "      <td>-1.997962e+01</td>\n",
              "      <td>-4.376771e+01</td>\n",
              "    </tr>\n",
              "    <tr>\n",
              "      <th>max</th>\n",
              "      <td>9.999000e+04</td>\n",
              "      <td>4.506593e+01</td>\n",
              "      <td>1.211054e+02</td>\n",
              "    </tr>\n",
              "  </tbody>\n",
              "</table>\n",
              "</div>"
            ],
            "text/plain": [
              "       geolocation_zip_code_prefix  geolocation_lat  geolocation_lng\n",
              "count                 1.000163e+06     1.000163e+06     1.000163e+06\n",
              "mean                  3.657417e+04    -2.117615e+01    -4.639054e+01\n",
              "std                   3.054934e+04     5.715866e+00     4.269748e+00\n",
              "min                   1.001000e+03    -3.660537e+01    -1.014668e+02\n",
              "25%                   1.107500e+04    -2.360355e+01    -4.857317e+01\n",
              "50%                   2.653000e+04    -2.291938e+01    -4.663788e+01\n",
              "75%                   6.350400e+04    -1.997962e+01    -4.376771e+01\n",
              "max                   9.999000e+04     4.506593e+01     1.211054e+02"
            ]
          },
          "execution_count": 17,
          "metadata": {},
          "output_type": "execute_result"
        }
      ],
      "source": [
        "print(\"geolocation_datasets\")\n",
        "df_geolocation.info()\n",
        "print()\n",
        "df_geolocation.describe()"
      ]
    },
    {
      "cell_type": "code",
      "execution_count": 18,
      "metadata": {
        "colab": {
          "base_uri": "https://localhost:8080/",
          "height": 526
        },
        "id": "RglVU7YG2odH",
        "outputId": "66ee127c-b70d-4e2e-e341-65960616d5c7"
      },
      "outputs": [
        {
          "name": "stdout",
          "output_type": "stream",
          "text": [
            "sellers_datasets\n",
            "<class 'pandas.core.frame.DataFrame'>\n",
            "RangeIndex: 3095 entries, 0 to 3094\n",
            "Data columns (total 4 columns):\n",
            " #   Column                  Non-Null Count  Dtype \n",
            "---  ------                  --------------  ----- \n",
            " 0   seller_id               3095 non-null   object\n",
            " 1   seller_zip_code_prefix  3095 non-null   int64 \n",
            " 2   seller_city             3095 non-null   object\n",
            " 3   seller_state            3095 non-null   object\n",
            "dtypes: int64(1), object(3)\n",
            "memory usage: 96.8+ KB\n",
            "\n"
          ]
        },
        {
          "data": {
            "text/html": [
              "<div>\n",
              "<style scoped>\n",
              "    .dataframe tbody tr th:only-of-type {\n",
              "        vertical-align: middle;\n",
              "    }\n",
              "\n",
              "    .dataframe tbody tr th {\n",
              "        vertical-align: top;\n",
              "    }\n",
              "\n",
              "    .dataframe thead th {\n",
              "        text-align: right;\n",
              "    }\n",
              "</style>\n",
              "<table border=\"1\" class=\"dataframe\">\n",
              "  <thead>\n",
              "    <tr style=\"text-align: right;\">\n",
              "      <th></th>\n",
              "      <th>seller_zip_code_prefix</th>\n",
              "    </tr>\n",
              "  </thead>\n",
              "  <tbody>\n",
              "    <tr>\n",
              "      <th>count</th>\n",
              "      <td>3095.000000</td>\n",
              "    </tr>\n",
              "    <tr>\n",
              "      <th>mean</th>\n",
              "      <td>32291.059451</td>\n",
              "    </tr>\n",
              "    <tr>\n",
              "      <th>std</th>\n",
              "      <td>32713.453830</td>\n",
              "    </tr>\n",
              "    <tr>\n",
              "      <th>min</th>\n",
              "      <td>1001.000000</td>\n",
              "    </tr>\n",
              "    <tr>\n",
              "      <th>25%</th>\n",
              "      <td>7093.500000</td>\n",
              "    </tr>\n",
              "    <tr>\n",
              "      <th>50%</th>\n",
              "      <td>14940.000000</td>\n",
              "    </tr>\n",
              "    <tr>\n",
              "      <th>75%</th>\n",
              "      <td>64552.500000</td>\n",
              "    </tr>\n",
              "    <tr>\n",
              "      <th>max</th>\n",
              "      <td>99730.000000</td>\n",
              "    </tr>\n",
              "  </tbody>\n",
              "</table>\n",
              "</div>"
            ],
            "text/plain": [
              "       seller_zip_code_prefix\n",
              "count             3095.000000\n",
              "mean             32291.059451\n",
              "std              32713.453830\n",
              "min               1001.000000\n",
              "25%               7093.500000\n",
              "50%              14940.000000\n",
              "75%              64552.500000\n",
              "max              99730.000000"
            ]
          },
          "execution_count": 18,
          "metadata": {},
          "output_type": "execute_result"
        }
      ],
      "source": [
        "print(\"sellers_datasets\")\n",
        "df_sellers.info()\n",
        "print()\n",
        "df_sellers.describe()"
      ]
    },
    {
      "cell_type": "code",
      "execution_count": 19,
      "metadata": {
        "colab": {
          "base_uri": "https://localhost:8080/",
          "height": 543
        },
        "id": "Gwd-vJNH20Dx",
        "outputId": "c3fa4705-44d6-477c-e1a8-ae738820445b"
      },
      "outputs": [
        {
          "name": "stdout",
          "output_type": "stream",
          "text": [
            "order_payments_datasets\n",
            "<class 'pandas.core.frame.DataFrame'>\n",
            "RangeIndex: 103886 entries, 0 to 103885\n",
            "Data columns (total 5 columns):\n",
            " #   Column                Non-Null Count   Dtype  \n",
            "---  ------                --------------   -----  \n",
            " 0   order_id              103886 non-null  object \n",
            " 1   payment_sequential    103886 non-null  int64  \n",
            " 2   payment_type          103886 non-null  object \n",
            " 3   payment_installments  103886 non-null  int64  \n",
            " 4   payment_value         103886 non-null  float64\n",
            "dtypes: float64(1), int64(2), object(2)\n",
            "memory usage: 4.0+ MB\n",
            "\n"
          ]
        },
        {
          "data": {
            "text/html": [
              "<div>\n",
              "<style scoped>\n",
              "    .dataframe tbody tr th:only-of-type {\n",
              "        vertical-align: middle;\n",
              "    }\n",
              "\n",
              "    .dataframe tbody tr th {\n",
              "        vertical-align: top;\n",
              "    }\n",
              "\n",
              "    .dataframe thead th {\n",
              "        text-align: right;\n",
              "    }\n",
              "</style>\n",
              "<table border=\"1\" class=\"dataframe\">\n",
              "  <thead>\n",
              "    <tr style=\"text-align: right;\">\n",
              "      <th></th>\n",
              "      <th>payment_sequential</th>\n",
              "      <th>payment_installments</th>\n",
              "      <th>payment_value</th>\n",
              "    </tr>\n",
              "  </thead>\n",
              "  <tbody>\n",
              "    <tr>\n",
              "      <th>count</th>\n",
              "      <td>103886.000000</td>\n",
              "      <td>103886.000000</td>\n",
              "      <td>103886.000000</td>\n",
              "    </tr>\n",
              "    <tr>\n",
              "      <th>mean</th>\n",
              "      <td>1.092679</td>\n",
              "      <td>2.853349</td>\n",
              "      <td>154.100380</td>\n",
              "    </tr>\n",
              "    <tr>\n",
              "      <th>std</th>\n",
              "      <td>0.706584</td>\n",
              "      <td>2.687051</td>\n",
              "      <td>217.494064</td>\n",
              "    </tr>\n",
              "    <tr>\n",
              "      <th>min</th>\n",
              "      <td>1.000000</td>\n",
              "      <td>0.000000</td>\n",
              "      <td>0.000000</td>\n",
              "    </tr>\n",
              "    <tr>\n",
              "      <th>25%</th>\n",
              "      <td>1.000000</td>\n",
              "      <td>1.000000</td>\n",
              "      <td>56.790000</td>\n",
              "    </tr>\n",
              "    <tr>\n",
              "      <th>50%</th>\n",
              "      <td>1.000000</td>\n",
              "      <td>1.000000</td>\n",
              "      <td>100.000000</td>\n",
              "    </tr>\n",
              "    <tr>\n",
              "      <th>75%</th>\n",
              "      <td>1.000000</td>\n",
              "      <td>4.000000</td>\n",
              "      <td>171.837500</td>\n",
              "    </tr>\n",
              "    <tr>\n",
              "      <th>max</th>\n",
              "      <td>29.000000</td>\n",
              "      <td>24.000000</td>\n",
              "      <td>13664.080000</td>\n",
              "    </tr>\n",
              "  </tbody>\n",
              "</table>\n",
              "</div>"
            ],
            "text/plain": [
              "       payment_sequential  payment_installments  payment_value\n",
              "count       103886.000000         103886.000000  103886.000000\n",
              "mean             1.092679              2.853349     154.100380\n",
              "std              0.706584              2.687051     217.494064\n",
              "min              1.000000              0.000000       0.000000\n",
              "25%              1.000000              1.000000      56.790000\n",
              "50%              1.000000              1.000000     100.000000\n",
              "75%              1.000000              4.000000     171.837500\n",
              "max             29.000000             24.000000   13664.080000"
            ]
          },
          "execution_count": 19,
          "metadata": {},
          "output_type": "execute_result"
        }
      ],
      "source": [
        "print(\"order_payments_datasets\")\n",
        "df_order_pay.info()\n",
        "print()\n",
        "df_order_pay.describe()"
      ]
    },
    {
      "cell_type": "code",
      "execution_count": 20,
      "metadata": {
        "colab": {
          "base_uri": "https://localhost:8080/",
          "height": 543
        },
        "id": "ax-3tEjc9Cj1",
        "outputId": "d3b2a49c-1fce-4a27-a8b2-997bbadabbb7"
      },
      "outputs": [
        {
          "name": "stdout",
          "output_type": "stream",
          "text": [
            "customer_datasets\n",
            "<class 'pandas.core.frame.DataFrame'>\n",
            "RangeIndex: 99441 entries, 0 to 99440\n",
            "Data columns (total 5 columns):\n",
            " #   Column                    Non-Null Count  Dtype \n",
            "---  ------                    --------------  ----- \n",
            " 0   customer_id               99441 non-null  object\n",
            " 1   customer_unique_id        99441 non-null  object\n",
            " 2   customer_zip_code_prefix  99441 non-null  int64 \n",
            " 3   customer_city             99441 non-null  object\n",
            " 4   customer_state            99441 non-null  object\n",
            "dtypes: int64(1), object(4)\n",
            "memory usage: 3.8+ MB\n",
            "\n"
          ]
        },
        {
          "data": {
            "text/html": [
              "<div>\n",
              "<style scoped>\n",
              "    .dataframe tbody tr th:only-of-type {\n",
              "        vertical-align: middle;\n",
              "    }\n",
              "\n",
              "    .dataframe tbody tr th {\n",
              "        vertical-align: top;\n",
              "    }\n",
              "\n",
              "    .dataframe thead th {\n",
              "        text-align: right;\n",
              "    }\n",
              "</style>\n",
              "<table border=\"1\" class=\"dataframe\">\n",
              "  <thead>\n",
              "    <tr style=\"text-align: right;\">\n",
              "      <th></th>\n",
              "      <th>customer_zip_code_prefix</th>\n",
              "    </tr>\n",
              "  </thead>\n",
              "  <tbody>\n",
              "    <tr>\n",
              "      <th>count</th>\n",
              "      <td>99441.000000</td>\n",
              "    </tr>\n",
              "    <tr>\n",
              "      <th>mean</th>\n",
              "      <td>35137.474583</td>\n",
              "    </tr>\n",
              "    <tr>\n",
              "      <th>std</th>\n",
              "      <td>29797.938996</td>\n",
              "    </tr>\n",
              "    <tr>\n",
              "      <th>min</th>\n",
              "      <td>1003.000000</td>\n",
              "    </tr>\n",
              "    <tr>\n",
              "      <th>25%</th>\n",
              "      <td>11347.000000</td>\n",
              "    </tr>\n",
              "    <tr>\n",
              "      <th>50%</th>\n",
              "      <td>24416.000000</td>\n",
              "    </tr>\n",
              "    <tr>\n",
              "      <th>75%</th>\n",
              "      <td>58900.000000</td>\n",
              "    </tr>\n",
              "    <tr>\n",
              "      <th>max</th>\n",
              "      <td>99990.000000</td>\n",
              "    </tr>\n",
              "  </tbody>\n",
              "</table>\n",
              "</div>"
            ],
            "text/plain": [
              "       customer_zip_code_prefix\n",
              "count              99441.000000\n",
              "mean               35137.474583\n",
              "std                29797.938996\n",
              "min                 1003.000000\n",
              "25%                11347.000000\n",
              "50%                24416.000000\n",
              "75%                58900.000000\n",
              "max                99990.000000"
            ]
          },
          "execution_count": 20,
          "metadata": {},
          "output_type": "execute_result"
        }
      ],
      "source": [
        "print(\"customer_datasets\")\n",
        "df_customers.info()\n",
        "print()\n",
        "df_customers.describe()"
      ]
    },
    {
      "cell_type": "code",
      "execution_count": 21,
      "metadata": {
        "colab": {
          "base_uri": "https://localhost:8080/",
          "height": 366
        },
        "id": "sgL_ulgL3CSJ",
        "outputId": "3cab493c-0481-45c3-8287-1f221def7caf"
      },
      "outputs": [
        {
          "name": "stdout",
          "output_type": "stream",
          "text": [
            "product_category_name_translation\n",
            "<class 'pandas.core.frame.DataFrame'>\n",
            "RangeIndex: 71 entries, 0 to 70\n",
            "Data columns (total 2 columns):\n",
            " #   Column                         Non-Null Count  Dtype \n",
            "---  ------                         --------------  ----- \n",
            " 0   product_category_name          71 non-null     object\n",
            " 1   product_category_name_english  71 non-null     object\n",
            "dtypes: object(2)\n",
            "memory usage: 1.2+ KB\n",
            "\n"
          ]
        },
        {
          "data": {
            "text/html": [
              "<div>\n",
              "<style scoped>\n",
              "    .dataframe tbody tr th:only-of-type {\n",
              "        vertical-align: middle;\n",
              "    }\n",
              "\n",
              "    .dataframe tbody tr th {\n",
              "        vertical-align: top;\n",
              "    }\n",
              "\n",
              "    .dataframe thead th {\n",
              "        text-align: right;\n",
              "    }\n",
              "</style>\n",
              "<table border=\"1\" class=\"dataframe\">\n",
              "  <thead>\n",
              "    <tr style=\"text-align: right;\">\n",
              "      <th></th>\n",
              "      <th>product_category_name</th>\n",
              "      <th>product_category_name_english</th>\n",
              "    </tr>\n",
              "  </thead>\n",
              "  <tbody>\n",
              "    <tr>\n",
              "      <th>count</th>\n",
              "      <td>71</td>\n",
              "      <td>71</td>\n",
              "    </tr>\n",
              "    <tr>\n",
              "      <th>unique</th>\n",
              "      <td>71</td>\n",
              "      <td>71</td>\n",
              "    </tr>\n",
              "    <tr>\n",
              "      <th>top</th>\n",
              "      <td>beleza_saude</td>\n",
              "      <td>health_beauty</td>\n",
              "    </tr>\n",
              "    <tr>\n",
              "      <th>freq</th>\n",
              "      <td>1</td>\n",
              "      <td>1</td>\n",
              "    </tr>\n",
              "  </tbody>\n",
              "</table>\n",
              "</div>"
            ],
            "text/plain": [
              "       product_category_name product_category_name_english\n",
              "count                     71                            71\n",
              "unique                    71                            71\n",
              "top             beleza_saude                 health_beauty\n",
              "freq                       1                             1"
            ]
          },
          "execution_count": 21,
          "metadata": {},
          "output_type": "execute_result"
        }
      ],
      "source": [
        "print(\"product_category_name_translation\")\n",
        "df_category.info()\n",
        "print()\n",
        "df_category.describe()"
      ]
    },
    {
      "cell_type": "code",
      "execution_count": 22,
      "metadata": {
        "colab": {
          "base_uri": "https://localhost:8080/"
        },
        "id": "jVnYpprE9Evz",
        "outputId": "0ae208ef-5e75-4c92-fd41-113d48699f1b"
      },
      "outputs": [
        {
          "name": "stdout",
          "output_type": "stream",
          "text": [
            "df_item Missing Values:\n",
            "order_id               0\n",
            "order_item_id          0\n",
            "product_id             0\n",
            "seller_id              0\n",
            "shipping_limit_date    0\n",
            "price                  0\n",
            "freight_value          0\n",
            "dtype: int64\n",
            "\n",
            "df_reviews Missing Values:\n",
            "review_id                      0\n",
            "order_id                       0\n",
            "review_score                   0\n",
            "review_comment_title       87656\n",
            "review_comment_message     58247\n",
            "review_creation_date           0\n",
            "review_answer_timestamp        0\n",
            "dtype: int64\n",
            "\n",
            "df_orders Missing Values:\n",
            "order_id                            0\n",
            "customer_id                         0\n",
            "order_status                        0\n",
            "order_purchase_timestamp            0\n",
            "order_approved_at                 160\n",
            "order_delivered_carrier_date     1783\n",
            "order_delivered_customer_date    2965\n",
            "order_estimated_delivery_date       0\n",
            "dtype: int64\n",
            "\n",
            "df_products Missing Values:\n",
            "product_id                      0\n",
            "product_category_name         610\n",
            "product_name_lenght           610\n",
            "product_description_lenght    610\n",
            "product_photos_qty            610\n",
            "product_weight_g                2\n",
            "product_length_cm               2\n",
            "product_height_cm               2\n",
            "product_width_cm                2\n",
            "dtype: int64\n",
            "\n",
            "df_geolocation Missing Values:\n",
            "geolocation_zip_code_prefix    0\n",
            "geolocation_lat                0\n",
            "geolocation_lng                0\n",
            "geolocation_city               0\n",
            "geolocation_state              0\n",
            "dtype: int64\n",
            "\n",
            "df_sellers Missing Values:\n",
            "seller_id                 0\n",
            "seller_zip_code_prefix    0\n",
            "seller_city               0\n",
            "seller_state              0\n",
            "dtype: int64\n",
            "\n",
            "df_order_pay Missing Values:\n",
            "order_id                0\n",
            "payment_sequential      0\n",
            "payment_type            0\n",
            "payment_installments    0\n",
            "payment_value           0\n",
            "dtype: int64\n",
            "\n",
            "df_customers Missing Values:\n",
            "customer_id                 0\n",
            "customer_unique_id          0\n",
            "customer_zip_code_prefix    0\n",
            "customer_city               0\n",
            "customer_state              0\n",
            "dtype: int64\n",
            "\n",
            "df_category Missing Values:\n",
            "product_category_name            0\n",
            "product_category_name_english    0\n",
            "dtype: int64\n",
            "\n"
          ]
        }
      ],
      "source": [
        "# mengecek missing values\n",
        "for df, name in zip(\n",
        "    [df_item, df_reviews, df_orders, df_products, df_geolocation,\n",
        "     df_sellers, df_order_pay, df_customers, df_category],\n",
        "    [\"df_item\", \"df_reviews\", \"df_orders\", \"df_products\",\n",
        "     \"df_geolocation\", \"df_sellers\", \"df_order_pay\", \"df_customers\", \"df_category\"]\n",
        "):\n",
        "    print(f\"{name} Missing Values:\\n{df.isnull().sum()}\\n\")"
      ]
    },
    {
      "cell_type": "code",
      "execution_count": 23,
      "metadata": {
        "colab": {
          "base_uri": "https://localhost:8080/"
        },
        "id": "wljA2HjcLEAU",
        "outputId": "3d8232de-101e-4158-dde9-13450bb38fb6"
      },
      "outputs": [
        {
          "name": "stdout",
          "output_type": "stream",
          "text": [
            "df_item Duplicates: 0\n",
            "df_reviews Duplicates: 0\n",
            "df_orders Duplicates: 0\n",
            "df_products Duplicates: 0\n",
            "df_geolocation Duplicates: 261831\n",
            "df_sellers Duplicates: 0\n",
            "df_order_pay Duplicates: 0\n",
            "df_customers Duplicates: 0\n",
            "df_category Duplicates: 0\n"
          ]
        }
      ],
      "source": [
        "# Mengecek jumlah duplikat\n",
        "for df, name in zip(\n",
        "    [df_item, df_reviews, df_orders, df_products, df_geolocation,\n",
        "     df_sellers, df_order_pay, df_customers, df_category],\n",
        "    [\"df_item\", \"df_reviews\", \"df_orders\", \"df_products\",\n",
        "     \"df_geolocation\", \"df_sellers\", \"df_order_pay\", \"df_customers\", \"df_category\"]\n",
        "):\n",
        "    duplicates = df.duplicated().sum()\n",
        "    print(f\"{name} Duplicates: {duplicates}\")\n"
      ]
    },
    {
      "cell_type": "code",
      "execution_count": 24,
      "metadata": {
        "id": "Ouh1GwF-PKuQ"
      },
      "outputs": [],
      "source": [
        "# Standardisasi Format Kolom\n",
        "df_orders['order_purchase_timestamp'] = pd.to_datetime(df_orders['order_purchase_timestamp'])\n",
        "df_orders['order_delivered_customer_date'] = pd.to_datetime(df_orders['order_delivered_customer_date'])\n",
        "df_reviews['review_creation_date'] = pd.to_datetime(df_reviews['review_creation_date'])"
      ]
    },
    {
      "cell_type": "code",
      "execution_count": 25,
      "metadata": {},
      "outputs": [],
      "source": [
        "# merge data df_products dengan product_category_name\n",
        "df_products = df_products.merge(df_category, on='product_category_name', how='left')"
      ]
    },
    {
      "cell_type": "markdown",
      "metadata": {
        "id": "7dtxhAPrkhPL"
      },
      "source": [
        "**Insight:**\n",
        "- `df_item`, `df_geolocation`, `df_sellers`, `df_order_pay`, `df_customers` `df_category`  tidak ada nilai hilang, tidak perlu tindakan. sedangkan `df_reviews`, `df_orders`, `df_products` memiliki nilai hilang maka perlu tindakan.\n",
        "\n",
        "- Dari output di atas, hanya dataset `df_geolocation` yang memiliki duplikat dengan jumlah 261831, sementara dataset lainnya tidak memiliki duplikat. namun duplicate pada `df_geolocation` tidak di remove dikarenakan `df_geolocation` merupakan bukan data unik."
      ]
    },
    {
      "cell_type": "markdown",
      "metadata": {
        "id": "EhN5R4hr8DC1"
      },
      "source": [
        "### Cleaning Data"
      ]
    },
    {
      "cell_type": "markdown",
      "metadata": {
        "id": "arX3js_gLb-6"
      },
      "source": [
        "#### handling missing values"
      ]
    },
    {
      "cell_type": "markdown",
      "metadata": {
        "id": "f4UDVd_jGvRJ"
      },
      "source": [
        "`df_item`, `df_geolocation`, `df_sellers`, `df_order_pay`, `df_customers` `df_category`  tidak ada nilai hilang, tidak perlu tindakan."
      ]
    },
    {
      "cell_type": "markdown",
      "metadata": {
        "id": "At_FTe6rGUcy"
      },
      "source": [
        "`df_reviews`:\n",
        "\n",
        "Nilai hilang pada kolom teks diisi dengan string \"No Title\" atau \"No Message\" agar tetap konsisten."
      ]
    },
    {
      "cell_type": "code",
      "execution_count": 26,
      "metadata": {
        "id": "3BH9VnoaD2J5"
      },
      "outputs": [],
      "source": [
        "# Handle missing values for df_reviews\n",
        "df_reviews['review_comment_title'] = df_reviews['review_comment_title'].fillna(\"No Title\")\n",
        "df_reviews['review_comment_message'] = df_reviews['review_comment_message'].fillna(\"No Message\")"
      ]
    },
    {
      "cell_type": "markdown",
      "metadata": {
        "id": "NrWZVs--HaRG"
      },
      "source": [
        "`df_orders`:\n",
        "\n",
        "- Untuk tanggal persetujuan (`order_approved_at`), asumsi digunakan bahwa jika kosong, waktu persetujuan sama dengan waktu pembelian.\n",
        "- Tanggal pengiriman yang hilang (`order_delivered_carrier_date`, `order_delivered_customer_date`) dianggap belum dikirim, sehingga diisi dengan NaT."
      ]
    },
    {
      "cell_type": "code",
      "execution_count": 27,
      "metadata": {
        "id": "-jZZTfh_GKFi"
      },
      "outputs": [],
      "source": [
        "# Handle missing values for df_orders\n",
        "df_orders['order_approved_at'] = df_orders['order_approved_at'].fillna(df_orders['order_purchase_timestamp'])\n",
        "df_orders['order_delivered_carrier_date'] = df_orders['order_delivered_carrier_date'].fillna(pd.NaT)\n",
        "df_orders['order_delivered_customer_date'] = df_orders['order_delivered_customer_date'].fillna(pd.NaT)"
      ]
    },
    {
      "cell_type": "markdown",
      "metadata": {
        "id": "vtG1qXfTJSUh"
      },
      "source": [
        "`df_products`:\n",
        "\n",
        "- Nilai hilang pada kolom numerik diisi dengan nilai median untuk menghindari bias.\n",
        "- Kolom `product_category_name` diisi dengan \"Unknown\" untuk menandai category yang tidak diketahui.\n",
        "- `product_description_lenght`, `product_photos_qty` diisi dengan 0 jika kosong."
      ]
    },
    {
      "cell_type": "code",
      "execution_count": 28,
      "metadata": {
        "id": "pZikCWRRGLDb"
      },
      "outputs": [],
      "source": [
        "# Handle missing values for df_products\n",
        "numerical_cols = ['product_weight_g', 'product_length_cm', 'product_height_cm', 'product_width_cm']\n",
        "for col in numerical_cols:\n",
        "    df_products[col] = df_products[col].fillna(df_products[col].median())\n",
        "\n",
        "df_products['product_category_name'] = df_products['product_category_name'].fillna(\"Unknown\")\n",
        "df_products['product_name_lenght'] = df_products['product_name_lenght'].fillna(0)\n",
        "df_products['product_description_lenght'] = df_products['product_description_lenght'].fillna(0)\n",
        "df_products['product_photos_qty'] = df_products['product_photos_qty'].fillna(0)"
      ]
    },
    {
      "cell_type": "code",
      "execution_count": 29,
      "metadata": {},
      "outputs": [
        {
          "data": {
            "text/plain": [
              "order_status\n",
              "delivered      96478\n",
              "shipped         1107\n",
              "canceled         625\n",
              "unavailable      609\n",
              "invoiced         314\n",
              "processing       301\n",
              "created            5\n",
              "approved           2\n",
              "Name: count, dtype: int64"
            ]
          },
          "execution_count": 29,
          "metadata": {},
          "output_type": "execute_result"
        }
      ],
      "source": [
        "df_orders.order_status.value_counts()"
      ]
    },
    {
      "cell_type": "code",
      "execution_count": 30,
      "metadata": {},
      "outputs": [
        {
          "name": "stdout",
          "output_type": "stream",
          "text": [
            "Index(['order_id', 'customer_id', 'order_status', 'order_purchase_timestamp',\n",
            "       'order_approved_at', 'order_delivered_carrier_date',\n",
            "       'order_delivered_customer_date', 'order_estimated_delivery_date'],\n",
            "      dtype='object')\n"
          ]
        }
      ],
      "source": [
        "print(df_orders.columns)"
      ]
    },
    {
      "cell_type": "code",
      "execution_count": 31,
      "metadata": {},
      "outputs": [
        {
          "data": {
            "text/plain": [
              "order_status\n",
              "delivered     96478\n",
              "shipped        1107\n",
              "invoiced        314\n",
              "processing      301\n",
              "created           5\n",
              "approved          2\n",
              "Name: count, dtype: int64"
            ]
          },
          "execution_count": 31,
          "metadata": {},
          "output_type": "execute_result"
        }
      ],
      "source": [
        "# Menghapus baris berdasarkan index\n",
        "df_orders.drop(df_orders[df_orders[\"order_status\"].isin([\"canceled\", \"unavailable\"])].index, inplace=True)\n",
        "\n",
        "# Cek hasil setelah filter\n",
        "df_orders[\"order_status\"].value_counts()"
      ]
    },
    {
      "cell_type": "code",
      "execution_count": 32,
      "metadata": {},
      "outputs": [],
      "source": [
        "df_reviews.to_csv(\"datasets/df_reviews_cleaned.csv\", index=False)\n",
        "df_orders.to_csv(\"datasets/df_orders_cleaned.csv\", index=False)\n",
        "df_products.to_csv(\"datasets/df_products_cleaned.csv\", index=False)"
      ]
    },
    {
      "cell_type": "code",
      "execution_count": 33,
      "metadata": {},
      "outputs": [],
      "source": [
        "df_reviews_cleaned = pd.read_csv(\"datasets/df_reviews_cleaned.csv\")\n",
        "df_orders_cleaned = pd.read_csv(\"datasets/df_orders_cleaned.csv\")\n",
        "df_products_cleaned = pd.read_csv(\"datasets/df_products_cleaned.csv\")"
      ]
    },
    {
      "cell_type": "code",
      "execution_count": 34,
      "metadata": {},
      "outputs": [],
      "source": [
        "# Gabungkan df_orders dengan df_order_pay berdasarkan order_id\n",
        "merged_df = pd.merge(df_orders_cleaned, df_order_pay, on='order_id', how='inner')\n",
        "\n",
        "# Gabungkan dengan df_item untuk mendapatkan informasi produk yang dibeli\n",
        "merged_df = pd.merge(merged_df, df_item, on='order_id', how='inner')\n",
        "\n",
        "# Gabungkan dengan df_products berdasarkan product_id untuk mendapatkan detail produk\n",
        "merged_df = pd.merge(merged_df, df_products_cleaned, on='product_id', how='inner')\n",
        "\n",
        "# Gabungkan dengan df_customers berdasarkan customer_id untuk mendapatkan informasi pelanggan\n",
        "merged_df = pd.merge(merged_df, df_customers, on='customer_id', how='inner')\n",
        "\n",
        "# saved datasets\n",
        "merged_df.to_csv(\"dashboard/datasets_cleaned.csv\", index=False)"
      ]
    },
    {
      "cell_type": "code",
      "execution_count": 35,
      "metadata": {},
      "outputs": [],
      "source": [
        "# Load dataset\n",
        "df = pd.read_csv(\"dashboard/datasets_cleaned.csv\")"
      ]
    },
    {
      "cell_type": "markdown",
      "metadata": {
        "id": "Q_5ejIqckiSP"
      },
      "source": [
        "**Insight:**\n",
        "handle missing values, dan formatting sudah dilakukan,selanjutnya tahap Exploratory Data Analysis (EDA)"
      ]
    },
    {
      "cell_type": "markdown",
      "metadata": {
        "id": "gp-Y6wU38DC1"
      },
      "source": [
        "## Exploratory Data Analysis (EDA)"
      ]
    },
    {
      "cell_type": "markdown",
      "metadata": {
        "id": "MW7WF2kr8DC1"
      },
      "source": [
        "###  distribusi data kontinu (Histograms)"
      ]
    },
    {
      "cell_type": "code",
      "execution_count": 36,
      "metadata": {
        "colab": {
          "base_uri": "https://localhost:8080/",
          "height": 1000
        },
        "id": "zFWS3LmcqNXe",
        "outputId": "08ca3ea8-90a0-4266-de12-a699c2c06f89"
      },
      "outputs": [
        {
          "data": {
            "image/png": "[encoded data removed]",
            "text/plain": [
              "<Figure size 1000x600 with 1 Axes>"
            ]
          },
          "metadata": {},
          "output_type": "display_data"
        },
        {
          "data": {
            "image/png": "[encoded data removed]",
            "text/plain": [
              "<Figure size 1000x600 with 1 Axes>"
            ]
          },
          "metadata": {},
          "output_type": "display_data"
        }
      ],
      "source": [
        "plt.figure(figsize=(10, 6))\n",
        "df['price'].hist(bins=50, color='skyblue', edgecolor='black')\n",
        "plt.title('Price Distribution')\n",
        "plt.xlabel('Price')\n",
        "plt.ylabel('Frequency')\n",
        "plt.show()\n",
        "\n",
        "plt.figure(figsize=(10, 6))\n",
        "df['product_weight_g'].hist(bins=50, color='skyblue', edgecolor='black')\n",
        "plt.title('Product Weight Distribution')\n",
        "plt.xlabel('Weight (grams)')\n",
        "plt.ylabel('Frequency')\n",
        "plt.show()"
      ]
    },
    {
      "cell_type": "markdown",
      "metadata": {
        "id": "tyGXaNXZ5JTl"
      },
      "source": [
        "- Produk dengan harga rendah lebih banyak dijual dibandingkan produk mahal.\n",
        "- Sebagian besar produk berukuran kecil atau ringan."
      ]
    },
    {
      "cell_type": "markdown",
      "metadata": {
        "id": "HGJecvGz5YSX"
      },
      "source": [
        "### distribusi fitur kategorikal (bar plot)"
      ]
    },
    {
      "cell_type": "code",
      "execution_count": 37,
      "metadata": {
        "colab": {
          "base_uri": "https://localhost:8080/",
          "height": 1000
        },
        "id": "u6cmM0nA5jX5",
        "outputId": "73f795bd-45c9-4b68-d314-232b6a5c0176"
      },
      "outputs": [
        {
          "name": "stderr",
          "output_type": "stream",
          "text": [
            "C:\\Users\\fiyan\\AppData\\Local\\Temp\\ipykernel_22576\\456128097.py:4: FutureWarning: \n",
            "\n",
            "Passing `palette` without assigning `hue` is deprecated and will be removed in v0.14.0. Assign the `y` variable to `hue` and set `legend=False` for the same effect.\n",
            "\n",
            "  sns.countplot(data=df_reviews_cleaned, y='review_score', palette=\"viridis\")\n"
          ]
        },
        {
          "data": {
            "image/png": "[encoded data removed]",
            "text/plain": [
              "<Figure size 1000x600 with 1 Axes>"
            ]
          },
          "metadata": {},
          "output_type": "display_data"
        },
        {
          "name": "stderr",
          "output_type": "stream",
          "text": [
            "C:\\Users\\fiyan\\AppData\\Local\\Temp\\ipykernel_22576\\456128097.py:11: FutureWarning: \n",
            "\n",
            "Passing `palette` without assigning `hue` is deprecated and will be removed in v0.14.0. Assign the `y` variable to `hue` and set `legend=False` for the same effect.\n",
            "\n",
            "  sns.countplot(data=df_orders_cleaned, y='order_status', palette=\"viridis\")\n"
          ]
        },
        {
          "data": {
            "image/png": "[encoded data removed]",
            "text/plain": [
              "<Figure size 1000x600 with 1 Axes>"
            ]
          },
          "metadata": {},
          "output_type": "display_data"
        }
      ],
      "source": [
        "#Explore data Distribusi Skor Ulasan (review_score) pada df_reviews dan Distribusi Status Pesanan (order_status) pada df_orders\n",
        "\n",
        "plt.figure(figsize=(10, 6))\n",
        "sns.countplot(data=df_reviews_cleaned, y='review_score', palette=\"viridis\")\n",
        "plt.title('Review Score Distribution (df_reviews)')\n",
        "plt.xlabel('Count')\n",
        "plt.ylabel('Review Score')\n",
        "plt.show()\n",
        "\n",
        "plt.figure(figsize=(10, 6))\n",
        "sns.countplot(data=df_orders_cleaned, y='order_status', palette=\"viridis\")\n",
        "plt.title('Order Status Distribution (df_orders)')\n",
        "plt.xlabel('Count')\n",
        "plt.ylabel('Order Status')\n",
        "plt.show()"
      ]
    },
    {
      "cell_type": "markdown",
      "metadata": {
        "id": "wybcaUUC7wUU"
      },
      "source": [
        "-  pelayanan secara umum sudah baik, tetapi masih ada beberapa pelanggan yang mengalami pengalaman negatif.\n",
        "- Sistem pengiriman berjalan dengan baik, karena mayoritas pesanan berhasil dikirim."
      ]
    },
    {
      "cell_type": "markdown",
      "metadata": {
        "id": "2ew-wzlf8RFV"
      },
      "source": [
        "### Menghitung korelasi antar fitur numerik produk (heatmap)"
      ]
    },
    {
      "cell_type": "code",
      "execution_count": 38,
      "metadata": {
        "colab": {
          "base_uri": "https://localhost:8080/",
          "height": 664
        },
        "id": "PDbFyUgi8NP2",
        "outputId": "d46b8168-8548-420b-be85-da12be68cf32"
      },
      "outputs": [
        {
          "data": {
            "image/png": "[encoded data removed]",
            "text/plain": [
              "<Figure size 800x600 with 2 Axes>"
            ]
          },
          "metadata": {},
          "output_type": "display_data"
        }
      ],
      "source": [
        "# Correlation Heatmap\n",
        "corr = df[['product_weight_g', 'product_length_cm', 'product_height_cm', 'product_width_cm']].corr()\n",
        "\n",
        "plt.figure(figsize=(8, 6))\n",
        "sns.heatmap(corr, annot=True, cmap='coolwarm', fmt=\".2f\")\n",
        "plt.title('Correlation between Product Features')\n",
        "plt.show()"
      ]
    },
    {
      "cell_type": "markdown",
      "metadata": {
        "id": "RPEzASdsHqkI"
      },
      "source": [
        "Berdasarkan heatmap korelasi, terdapat hubungan sedang antara berat produk (product_weight_g) dengan dimensi produk lainnya, seperti tinggi (product_height_cm), lebar (product_width_cm), dan panjang (product_length_cm). Korelasi tertinggi terlihat antara berat dan tinggi produk (0.58), menunjukkan bahwa produk yang lebih berat cenderung lebih tinggi. Selain itu, panjang dan lebar produk memiliki korelasi sebesar 0.54, yang mengindikasikan bahwa produk yang lebih panjang umumnya juga lebih lebar. Sebaliknya, panjang dan tinggi memiliki korelasi paling rendah (0.19), menunjukkan bahwa keduanya tidak terlalu berhubungan. Hasil ini dapat digunakan untuk memahami pola dimensi produk dalam pengemasan atau pengelolaan logistik."
      ]
    },
    {
      "cell_type": "markdown",
      "metadata": {
        "id": "gDbdyULRIazP"
      },
      "source": [
        "### Insight Geolocation (5 Kota dengan Pelanggan Terbanyak)"
      ]
    },
    {
      "cell_type": "code",
      "execution_count": 39,
      "metadata": {
        "colab": {
          "base_uri": "https://localhost:8080/"
        },
        "id": "L2JFpaHEIcJp",
        "outputId": "44f39005-2809-460b-ac3a-f92f67ce60bb"
      },
      "outputs": [
        {
          "data": {
            "text/html": [
              "<div>\n",
              "<style scoped>\n",
              "    .dataframe tbody tr th:only-of-type {\n",
              "        vertical-align: middle;\n",
              "    }\n",
              "\n",
              "    .dataframe tbody tr th {\n",
              "        vertical-align: top;\n",
              "    }\n",
              "\n",
              "    .dataframe thead th {\n",
              "        text-align: right;\n",
              "    }\n",
              "</style>\n",
              "<table border=\"1\" class=\"dataframe\">\n",
              "  <thead>\n",
              "    <tr style=\"text-align: right;\">\n",
              "      <th></th>\n",
              "      <th>customer_city</th>\n",
              "      <th>unique_customers</th>\n",
              "    </tr>\n",
              "  </thead>\n",
              "  <tbody>\n",
              "    <tr>\n",
              "      <th>0</th>\n",
              "      <td>sao paulo</td>\n",
              "      <td>14761</td>\n",
              "    </tr>\n",
              "    <tr>\n",
              "      <th>1</th>\n",
              "      <td>rio de janeiro</td>\n",
              "      <td>6545</td>\n",
              "    </tr>\n",
              "    <tr>\n",
              "      <th>2</th>\n",
              "      <td>belo horizonte</td>\n",
              "      <td>2641</td>\n",
              "    </tr>\n",
              "    <tr>\n",
              "      <th>3</th>\n",
              "      <td>brasilia</td>\n",
              "      <td>2051</td>\n",
              "    </tr>\n",
              "    <tr>\n",
              "      <th>4</th>\n",
              "      <td>curitiba</td>\n",
              "      <td>1447</td>\n",
              "    </tr>\n",
              "  </tbody>\n",
              "</table>\n",
              "</div>"
            ],
            "text/plain": [
              "    customer_city  unique_customers\n",
              "0       sao paulo             14761\n",
              "1  rio de janeiro              6545\n",
              "2  belo horizonte              2641\n",
              "3        brasilia              2051\n",
              "4        curitiba              1447"
            ]
          },
          "execution_count": 39,
          "metadata": {},
          "output_type": "execute_result"
        }
      ],
      "source": [
        "# 5 kota dengan jumlah pelanggan terbanyak berdasarkan dataset df_customers\n",
        "\n",
        "top_cities = (\n",
        "    df.groupby(\"customer_city\")[\"customer_unique_id\"]\n",
        "    .nunique()\n",
        "    .sort_values(ascending=False)\n",
        "    .reset_index()\n",
        "    .rename(columns={\"customer_unique_id\": \"unique_customers\"})\n",
        "    .head(5)  # Mengambil 5 kota teratas\n",
        ")\n",
        "\n",
        "top_cities"
      ]
    },
    {
      "cell_type": "markdown",
      "metadata": {
        "id": "ClH98m6Iu-RB"
      },
      "source": [
        "### Distribusi Jenis Pembayaran"
      ]
    },
    {
      "cell_type": "code",
      "execution_count": 41,
      "metadata": {
        "colab": {
          "base_uri": "https://localhost:8080/"
        },
        "id": "e9CQCZjk8DC2",
        "outputId": "d52ea275-014b-4b26-886c-e3f733a1cdbc"
      },
      "outputs": [
        {
          "name": "stdout",
          "output_type": "stream",
          "text": [
            "\n",
            "Payment Type Distribution:\n",
            "payment_type\n",
            "credit_card    86327\n",
            "boleto         22771\n",
            "voucher         6245\n",
            "debit_card      1685\n",
            "Name: count, dtype: int64\n"
          ]
        }
      ],
      "source": [
        "# Analisis Distribusi Metode Pembayaran\n",
        "\n",
        "payment_type_distribution = df['payment_type'].value_counts()\n",
        "\n",
        "print(\"\\nPayment Type Distribution:\")\n",
        "print(payment_type_distribution)\n"
      ]
    },
    {
      "cell_type": "markdown",
      "metadata": {
        "id": "xgSUxv5szGNX"
      },
      "source": [
        "### Tren Waktu (Pesanan per Bulan)"
      ]
    },
    {
      "cell_type": "code",
      "execution_count": 42,
      "metadata": {
        "colab": {
          "base_uri": "https://localhost:8080/"
        },
        "id": "tjra2lb4ktF7",
        "outputId": "e2685633-2fa6-422f-a057-76cb17d0433f"
      },
      "outputs": [
        {
          "name": "stdout",
          "output_type": "stream",
          "text": [
            "\n",
            "Tren Pesanan per Bulan:\n",
            "order_purchase_timestamp\n",
            "2016-09       2\n",
            "2016-10     360\n",
            "2016-12       1\n",
            "2017-01    1003\n",
            "2017-02    2047\n",
            "2017-03    3156\n",
            "2017-04    2831\n",
            "2017-05    4365\n",
            "2017-06    3769\n",
            "2017-07    4806\n",
            "2017-08    5139\n",
            "2017-09    5083\n",
            "2017-10    5543\n",
            "2017-11    8977\n",
            "2017-12    6556\n",
            "2018-01    8509\n",
            "2018-02    7844\n",
            "2018-03    8521\n",
            "2018-04    8243\n",
            "2018-05    8194\n",
            "2018-06    7372\n",
            "2018-07    7277\n",
            "2018-08    7429\n",
            "2018-09       1\n",
            "Freq: M, Name: count, dtype: int64\n",
            "\n",
            "Tren Pesanan per Bulan:\n",
            "order_purchase_timestamp\n",
            "2016-09       2\n",
            "2016-10     360\n",
            "2016-12       1\n",
            "2017-01    1003\n",
            "2017-02    2047\n",
            "2017-03    3156\n",
            "2017-04    2831\n",
            "2017-05    4365\n",
            "2017-06    3769\n",
            "2017-07    4806\n",
            "2017-08    5139\n",
            "2017-09    5083\n",
            "2017-10    5543\n",
            "2017-11    8977\n",
            "2017-12    6556\n",
            "2018-01    8509\n",
            "2018-02    7844\n",
            "2018-03    8521\n",
            "2018-04    8243\n",
            "2018-05    8194\n",
            "2018-06    7372\n",
            "2018-07    7277\n",
            "2018-08    7429\n",
            "2018-09       1\n",
            "Freq: M, Name: count, dtype: int64\n"
          ]
        }
      ],
      "source": [
        "# Konversi kolom order_purchase_timestamp ke datetime\n",
        "df['order_purchase_timestamp'] = pd.to_datetime(df['order_purchase_timestamp'])\n",
        "\n",
        "# Menghitung jumlah pesanan per bulan\n",
        "orders_by_month = (\n",
        "    df['order_purchase_timestamp']\n",
        "    .dt.to_period('M')\n",
        "    .value_counts()\n",
        "    .sort_index()\n",
        ")\n",
        "\n",
        "# Tampilkan hasil\n",
        "print(\"\\nTren Pesanan per Bulan:\")\n",
        "print(orders_by_month)\n",
        "# Menghitung jumlah pesanan per bulan\n",
        "orders_by_month = (\n",
        "    df['order_purchase_timestamp']\n",
        "    .dt.to_period('M')\n",
        "    .value_counts()\n",
        "    .sort_index()\n",
        ")\n",
        "\n",
        "# Tampilkan hasil\n",
        "print(\"\\nTren Pesanan per Bulan:\")\n",
        "print(orders_by_month)"
      ]
    },
    {
      "cell_type": "markdown",
      "metadata": {
        "id": "Ecu2iKW9txIe"
      },
      "source": [
        "### Analisis Produk"
      ]
    },
    {
      "cell_type": "code",
      "execution_count": 40,
      "metadata": {
        "colab": {
          "base_uri": "https://localhost:8080/"
        },
        "id": "LovV_oosItSb",
        "outputId": "350eddf8-693f-4c9c-c83c-eb34e6a63cf8"
      },
      "outputs": [
        {
          "name": "stdout",
          "output_type": "stream",
          "text": [
            "\n",
            "Top 5 Product Categories:\n",
            "product_category_name_english\n",
            "bed_bath_table           11805\n",
            "health_beauty             9932\n",
            "sports_leisure            8893\n",
            "furniture_decor           8707\n",
            "computers_accessories     8036\n",
            "Name: count, dtype: int64\n"
          ]
        }
      ],
      "source": [
        "# Analisis Kategori Produk dalam kolom product_category_name_english\n",
        "\n",
        "top_categories = df['product_category_name_english'].value_counts().head(5)\n",
        "\n",
        "print(\"\\nTop 5 Product Categories:\")\n",
        "print(top_categories)\n"
      ]
    },
    {
      "cell_type": "markdown",
      "metadata": {
        "id": "zsyZjqak8DC2"
      },
      "source": [
        "## Visualization & Explanatory Analysis"
      ]
    },
    {
      "cell_type": "markdown",
      "metadata": {
        "id": "HZxOiQ6n8DC2"
      },
      "source": [
        "### Pertanyaan 1:\n",
        "\n",
        "Di kota mana mayoritas pelanggan berasal, dan bagaimana distribusi jumlah pelanggan di 5 kota teratas dibandingkan dengan kota lainnya? Apa implikasi dari data ini untuk strategi pemasaran perusahaan, seperti penempatan promosi lokal atau ekspansi operasional?"
      ]
    },
    {
      "cell_type": "code",
      "execution_count": 43,
      "metadata": {
        "colab": {
          "base_uri": "https://localhost:8080/",
          "height": 607
        },
        "id": "1swJUdAD8DC2",
        "outputId": "2d7cc776-50a8-4c0d-a926-26987775676e"
      },
      "outputs": [
        {
          "name": "stderr",
          "output_type": "stream",
          "text": [
            "C:\\Users\\fiyan\\AppData\\Local\\Temp\\ipykernel_22576\\1115470588.py:4: FutureWarning: \n",
            "\n",
            "Passing `palette` without assigning `hue` is deprecated and will be removed in v0.14.0. Assign the `y` variable to `hue` and set `legend=False` for the same effect.\n",
            "\n",
            "  sns.barplot(data=top_cities, x=\"unique_customers\", y=\"customer_city\", palette=\"viridis\")\n"
          ]
        },
        {
          "data": {
            "image/png": "[encoded data removed]",
            "text/plain": [
              "<Figure size 1200x600 with 1 Axes>"
            ]
          },
          "metadata": {},
          "output_type": "display_data"
        }
      ],
      "source": [
        "# Top 5 Cities with Most Customers\n",
        "\n",
        "plt.figure(figsize=(12, 6))\n",
        "sns.barplot(data=top_cities, x=\"unique_customers\", y=\"customer_city\", palette=\"viridis\")\n",
        "\n",
        "# Menambahkan detail jumlah di dalam chart\n",
        "for index, value in enumerate(top_cities[\"unique_customers\"]):\n",
        "    plt.text(value + 2, index, str(value), va='center', fontsize=10)\n",
        "\n",
        "plt.title('Top 5 Cities with Most Unique Customers')\n",
        "plt.xlabel('Number of Unique Customers')\n",
        "plt.ylabel('City')\n",
        "plt.gca().invert_yaxis()  # Membalikkan urutan untuk ranking\n",
        "plt.tight_layout()\n",
        "plt.show()"
      ]
    },
    {
      "cell_type": "markdown",
      "metadata": {
        "id": "DgHI7CiU8DC2"
      },
      "source": [
        "### Pertanyaan 2:\n",
        "Apa saja metode pembayaran yang paling banyak digunakan oleh pelanggan, dan seberapa besar kontribusi setiap metode terhadap total transaksi? Berdasarkan distribusi ini, bagaimana perusahaan dapat mengoptimalkan layanan pembayaran untuk meningkatkan pengalaman pelanggan?"
      ]
    },
    {
      "cell_type": "code",
      "execution_count": 44,
      "metadata": {
        "colab": {
          "base_uri": "https://localhost:8080/",
          "height": 607
        },
        "id": "Go0lCsvO8DC2",
        "outputId": "a2b8d168-c429-4a5e-bd5e-e004395867e4"
      },
      "outputs": [
        {
          "data": {
            "image/png": "[encoded data removed]",
            "text/plain": [
              "<Figure size 1000x600 with 1 Axes>"
            ]
          },
          "metadata": {},
          "output_type": "display_data"
        }
      ],
      "source": [
        "# Membuat visualisasi menggunakan bar chart\n",
        "plt.figure(figsize=(10, 6))\n",
        "bars = plt.bar(payment_type_distribution.index, payment_type_distribution.values, color=plt.cm.viridis(np.linspace(0, 1, len(payment_type_distribution))))\n",
        "\n",
        "# Menambahkan label jumlah di atas tiap bar\n",
        "for bar in bars:\n",
        "    plt.text(bar.get_x() + bar.get_width() / 2, bar.get_height() - 0.5,  # Posisi teks\n",
        "             str(bar.get_height()),  # Teks yang ditampilkan\n",
        "             ha='center', va='bottom', fontsize=10, color='white', weight='bold')\n",
        "\n",
        "# Menyesuaikan tampilan\n",
        "plt.title('Payment Type Distribution', fontsize=14)\n",
        "plt.xlabel('Payment Type', fontsize=12)\n",
        "plt.ylabel('Count', fontsize=12)\n",
        "plt.grid(axis='y', linestyle='--', alpha=0.7)\n",
        "plt.tight_layout()\n",
        "\n",
        "# Menampilkan plot\n",
        "plt.show()"
      ]
    },
    {
      "cell_type": "markdown",
      "metadata": {
        "id": "mPpJQUzr-0b7"
      },
      "source": [
        "### Pertanyaan 3 :\n",
        "Bagaimana tren jumlah pesanan dari waktu ke waktu (per bulan), dan apakah ada pola musiman atau kenaikan/penurunan yang signifikan selama periode tertentu? Apa strategi yang bisa diterapkan berdasarkan tren ini, misalnya untuk promosi musiman atau pengelolaan inventaris?"
      ]
    },
    {
      "cell_type": "code",
      "execution_count": 45,
      "metadata": {
        "colab": {
          "base_uri": "https://localhost:8080/",
          "height": 607
        },
        "id": "XtNFKpIT-e8b",
        "outputId": "4f8f1835-2fb8-41b9-fd2b-84c3b5dceb48"
      },
      "outputs": [
        {
          "data": {
            "image/png": "[encoded data removed]",
            "text/plain": [
              "<Figure size 1200x600 with 1 Axes>"
            ]
          },
          "metadata": {},
          "output_type": "display_data"
        }
      ],
      "source": [
        "# Konversi kolom order_purchase_timestamp ke datetime\n",
        "df['order_purchase_timestamp'] = pd.to_datetime(df['order_purchase_timestamp'])\n",
        "\n",
        "# Menghitung jumlah pesanan per bulan\n",
        "orders_by_month = (\n",
        "    df['order_purchase_timestamp']\n",
        "    .dt.to_period('M')\n",
        "    .value_counts()\n",
        "    .sort_index()\n",
        ")\n",
        "\n",
        "# Konversi ke DataFrame\n",
        "orders_by_month_df = orders_by_month.reset_index()\n",
        "orders_by_month_df.columns = ['Month', 'Order Count']\n",
        "orders_by_month_df['Month'] = orders_by_month_df['Month'].dt.to_timestamp()\n",
        "\n",
        "# Visualisasi Line Chart dengan Matplotlib\n",
        "plt.figure(figsize=(12, 6))\n",
        "plt.plot(orders_by_month_df['Month'], orders_by_month_df['Order Count'], marker='o', linestyle='-', color='teal')\n",
        "\n",
        "# Menambahkan detail jumlah pada titik-titik data\n",
        "for i, row in orders_by_month_df.iterrows():\n",
        "    plt.text(row['Month'], row['Order Count'] + 10, f\"{row['Order Count']:,}\", ha='center', fontsize=9)\n",
        "\n",
        "plt.title('Trend of Orders per Month')\n",
        "plt.xlabel('Month')\n",
        "plt.ylabel('Order Count')\n",
        "plt.grid(True, linestyle='--', alpha=0.6)\n",
        "plt.xticks(rotation=45)\n",
        "plt.tight_layout()\n",
        "plt.show()"
      ]
    },
    {
      "cell_type": "markdown",
      "metadata": {
        "id": "LK_jTRWb_2R3"
      },
      "source": [
        "### Pertanyaan 4 :\n",
        "Kategori produk apa yang paling populer di antara pelanggan, dan bagaimana distribusi 5 kategori teratas dibandingkan dengan kategori lainnya? Bagaimana hasil ini dapat digunakan untuk pengelolaan produk atau strategi pemasaran perusahaan?"
      ]
    },
    {
      "cell_type": "code",
      "execution_count": 46,
      "metadata": {
        "colab": {
          "base_uri": "https://localhost:8080/",
          "height": 607
        },
        "id": "UFTmCLwiAEjh",
        "outputId": "7b360679-502d-4cda-f1ef-3e3cc95ab56b"
      },
      "outputs": [
        {
          "data": {
            "image/png": "[encoded data removed]",
            "text/plain": [
              "<Figure size 1200x600 with 1 Axes>"
            ]
          },
          "metadata": {},
          "output_type": "display_data"
        }
      ],
      "source": [
        "# Visualisasi menggunakan bar chart horizontal\n",
        "plt.figure(figsize=(12, 6))\n",
        "bars = plt.barh(top_categories.index, top_categories.values, color='royalblue')\n",
        "\n",
        "# Menambahkan detail jumlah di dalam chart\n",
        "for bar in bars:\n",
        "    plt.text(bar.get_width() + 5, bar.get_y() + bar.get_height()/2,\n",
        "             f'{bar.get_width():,}', va='center', fontsize=10)\n",
        "\n",
        "plt.title('Top 5 Product Categories')\n",
        "plt.xlabel('Number of Products Sold')\n",
        "plt.ylabel('Product Category')\n",
        "plt.gca().invert_yaxis()  # Membalikkan urutan untuk ranking\n",
        "plt.tight_layout()\n",
        "plt.show()"
      ]
    },
    {
      "cell_type": "markdown",
      "metadata": {
        "id": "_WeHlCeX8DC2"
      },
      "source": [
        "## Conclusion"
      ]
    },
    {
      "cell_type": "markdown",
      "metadata": {
        "id": "ZTcyR48Y8DC2"
      },
      "source": [
        "##### Conclution pertanyaan 1"
      ]
    },
    {
      "cell_type": "markdown",
      "metadata": {
        "id": "_Ggs0-XZ4NE9"
      },
      "source": [
        "- Berdasarkan visualisasi, terlihat bahwa Sao Paulo merupakan kota dengan jumlah pelanggan terbanyak, yaitu 14761 pelanggan, jauh melampaui kota lain. Posisi kedua ditempati oleh Rio de Janeiro dengan 6545 pelanggan, yang juga memiliki jumlah signifikan namun hanya sekitar setengah dari Sao Paulo. Tiga kota lainnya, yaitu Belo Horizonte 2641 pelanggan, Brasilia 2051 pelanggan, dan Curitiba 1447 pelanggan, memiliki kontribusi yang lebih kecil terhadap jumlah pelanggan dibandingkan Sao Paulo dan Rio de Janeiro.\n",
        "\n",
        "- Insight:\n",
        "  - Sao Paulo sebagai pusat pelanggan terbesar menunjukkan bahwa kota ini berpotensi menjadi fokus utama strategi pemasaran atau pengembangan layanan perusahaan.\n",
        "  - Kota dengan jumlah pelanggan lebih kecil, seperti Curitiba, dapat menjadi target untuk pengembangan pasar lebih lanjut.\n",
        "\n",
        "- Rekomendasi Bisnis:\n",
        "  - Perusahaan dapat memperkuat layanan dan promosi di Sao Paulo untuk mempertahankan pelanggan yang ada.\n",
        "  - Investasi lebih besar pada Rio de Janeiro juga dapat dilakukan untuk memaksimalkan potensi pasar di sana.\n",
        "  - Strategi pemasaran yang lebih agresif dapat diarahkan ke kota dengan jumlah pelanggan yang lebih kecil untuk meningkatkan pertumbuhan pelanggan."
      ]
    },
    {
      "cell_type": "markdown",
      "metadata": {
        "id": "7nCrdr_C9omH"
      },
      "source": [
        "##### Conclution pertanyaan 2"
      ]
    },
    {
      "cell_type": "markdown",
      "metadata": {
        "id": "pkB81uwh94Mz"
      },
      "source": [
        "- Kartu Kredit adalah metode pembayaran paling populer, menyumbang mayoritas transaksi.\n",
        "- Boleto menjadi metode pembayaran kedua terbanyak, dengan kontribusi cukup signifikan.\n",
        "- Voucher dan Debit Card hanya digunakan oleh sedikit pelanggan.\n",
        "- Insight:\n",
        "  - Pelanggan lebih menyukai metode yang cepat dan praktis, seperti kartu kredit.\n",
        "  Metode pembayaran lain memiliki potensi, namun membutuhkan kemudahan tambahan untuk menarik lebih banyak pengguna.\n",
        "- Rekomendasi:\n",
        "  - Optimalkan kartu kredit dengan mempercepat proses otorisasi dan meningkatkan keamanan.\n",
        "  - Permudah penggunaan boleto, seperti mempersingkat langkah pembayaran.\n",
        "  - Promosikan metode minor seperti voucher dan debit card untuk mendiversifikasi preferensi pembayaran pelanggan."
      ]
    },
    {
      "cell_type": "markdown",
      "metadata": {
        "id": "DUiITmFWWJe2"
      },
      "source": [
        "##### Conclution pertanyaan 3"
      ]
    },
    {
      "cell_type": "markdown",
      "metadata": {
        "id": "DLuXTWlHWNLO"
      },
      "source": [
        "- Jumlah pesanan mengalami peningkatan signifikan dari 2016 hingga awal 2018, menunjukkan tren pertumbuhan positif.\n",
        "- Penurunan tajam terjadi setelah pertengahan 2018.\n",
        "\n",
        "- Insight:\n",
        "  - Tidak terlihat pola musiman yang jelas, tetapi pertumbuhan pesanan stabil hingga puncaknya pada awal 2018.\n",
        "  - Penurunan tajam setelah pertengahan 2018 dapat mengindikasikan perubahan eksternal, seperti kebijakan, kompetitor, atau perubahan pasar.\n",
        "- Rekomendasi:\n",
        "  - Analisis penyebab penurunan setelah pertengahan 2018 untuk tindakan korektif.\n",
        "  - Tingkatkan promosi untuk mempertahankan pertumbuhan, terutama pada bulan dengan pesanan tinggi sebelumnya.\n",
        "  Optimalkan inventaris untuk mendukung tren peningkatan pesanan di periode awal."
      ]
    },
    {
      "cell_type": "markdown",
      "metadata": {
        "id": "XtGOfwgrBjcd"
      },
      "source": [
        "##### Conclution pertanyaan 4"
      ]
    },
    {
      "cell_type": "markdown",
      "metadata": {
        "id": "t2-UtmOsBnH6"
      },
      "source": [
        "- Kategori produk \"bed_bath_table\" adalah yang paling populer dengan jumlah penjualan tertinggi, diikuti oleh \"health_beauty\", \"sports_leisure\", \"bfurniture_decor\", dan \"computers_accessories\".\n",
        "\n",
        "- Insight :\n",
        "  - Permintaan produk dalam kategori bed_bath_table jauh lebih tinggi dibandingkan kategori lainnya, menunjukkan potensi besar dalam segmen ini.\n",
        "  - Perbedaan jumlah penjualan antara kategori menunjukkan variasi preferensi pelanggan yang dapat dimanfaatkan dalam strategi pemasaran.\n",
        "- Rekomendasi :\n",
        "  - Optimasi Stok → Pastikan ketersediaan stok yang cukup untuk kategori dengan penjualan tinggi guna menghindari kehabisan barang.\n",
        "  - Strategi Pemasaran → Fokuskan kampanye iklan dan promosi pada kategori terlaris untuk meningkatkan volume penjualan lebih lanjut.\n",
        "  - Ekspansi Produk → Lakukan analisis lebih lanjut untuk menambah variasi produk dalam kategori populer agar tetap kompetitif.\n",
        "  - Segmentasi Pelanggan → Gunakan data ini untuk memahami preferensi pelanggan dan menargetkan promosi yang lebih spesifik."
      ]
    }
  ],
  "metadata": {
    "colab": {
      "provenance": [],
      "toc_visible": true
    },
    "kernelspec": {
      "display_name": "DAvenv",
      "language": "python",
      "name": "python3"
    },
    "language_info": {
      "codemirror_mode": {
        "name": "ipython",
        "version": 3
      },
      "file_extension": ".py",
      "mimetype": "text/x-python",
      "name": "python",
      "nbconvert_exporter": "python",
      "pygments_lexer": "ipython3",
      "version": "3.9.0"
    },
    "orig_nbformat": 4
  },
  "nbformat": 4,
  "nbformat_minor": 0
}
